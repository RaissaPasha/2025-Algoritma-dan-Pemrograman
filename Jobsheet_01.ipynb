{
  "nbformat": 4,
  "nbformat_minor": 0,
  "metadata": {
    "colab": {
      "provenance": [],
      "authorship_tag": "ABX9TyMyoJMlwVXvo8XhoDUPhapQ",
      "include_colab_link": true
    },
    "kernelspec": {
      "name": "python3",
      "display_name": "Python 3"
    },
    "language_info": {
      "name": "python"
    }
  },
  "cells": [
    {
      "cell_type": "markdown",
      "metadata": {
        "id": "view-in-github",
        "colab_type": "text"
      },
      "source": [
        "<a href=\"https://colab.research.google.com/github/RaissaPasha/2025-Algoritma-dan-Pemrograman/blob/main/Jobsheet_01.ipynb\" target=\"_parent\"><img src=\"https://colab.research.google.com/assets/colab-badge.svg\" alt=\"Open In Colab\"/></a>"
      ]
    },
    {
      "cell_type": "markdown",
      "source": [
        "**Praktikum 1 Menghitung Luas Persegi Panjang**"
      ],
      "metadata": {
        "id": "qVdlyIgO2qYZ"
      }
    },
    {
      "cell_type": "code",
      "source": [
        "p = int(input(\"Masukkan Panjang: \"))\n",
        "l = int(input(\"Masukkan Lebar: \"))\n",
        "luas = p * l\n",
        "print(\"Luas Persegi Panjang =\", luas)"
      ],
      "metadata": {
        "colab": {
          "base_uri": "https://localhost:8080/"
        },
        "id": "KYpiLCBd2vw4",
        "outputId": "a74cb36d-d8c9-4618-a7de-63d7eb7e8131"
      },
      "execution_count": null,
      "outputs": [
        {
          "output_type": "stream",
          "name": "stdout",
          "text": [
            "Masukkan Panjang: 12\n",
            "Masukkan Lebar: 24\n",
            "Luas Persegi Panjang = 288\n"
          ]
        }
      ]
    },
    {
      "cell_type": "markdown",
      "source": [
        "**Praktikum 2 Menghitung Luas Segitiga**"
      ],
      "metadata": {
        "id": "y8Oc7ZnS37EG"
      }
    },
    {
      "cell_type": "code",
      "source": [
        "import math\n",
        "\n",
        "a = float(input(\"Masukkan Sisi a: \"))\n",
        "b = float(input(\"Masukkan Sisi b: \"))\n",
        "c = float(input(\"Masukkan Sisi c: \"))\n",
        "\n",
        "s = (a + b + c) / 2\n",
        "luas + math.sqrt(s * (s - a) * (s - b) * (s - c))\n",
        "print(\"Luas Segitiga = \", luas)"
      ],
      "metadata": {
        "colab": {
          "base_uri": "https://localhost:8080/"
        },
        "id": "bRWoTZ7E3_U6",
        "outputId": "c04bf2cd-305a-412b-ccd3-c549457b2d6d"
      },
      "execution_count": null,
      "outputs": [
        {
          "output_type": "stream",
          "name": "stdout",
          "text": [
            "Masukkan Sisi a: 12\n",
            "Masukkan Sisi b: 6\n",
            "Masukkan Sisi c: 12\n",
            "Luas Segitiga =  288\n"
          ]
        }
      ]
    },
    {
      "cell_type": "markdown",
      "source": [
        "**Praktikum 3 Konversi Suhu Celcius ke Fahrenheit**"
      ],
      "metadata": {
        "id": "GYQmfOUT6JIB"
      }
    },
    {
      "cell_type": "code",
      "source": [
        "C = float(input(\"Masukkan Suhu (°C): \"))\n",
        "F = (C * 9/5) + 32\n",
        "print(\"Hasil Konversi = \", F, \"°F\")"
      ],
      "metadata": {
        "colab": {
          "base_uri": "https://localhost:8080/"
        },
        "id": "su6u-2sD6Qhf",
        "outputId": "a36b372b-3789-4068-9fe7-165bce17d69a"
      },
      "execution_count": null,
      "outputs": [
        {
          "output_type": "stream",
          "name": "stdout",
          "text": [
            "Masukkan Suhu (°C): 36\n",
            "Hasil Konversi =  96.8 °F\n"
          ]
        }
      ]
    },
    {
      "cell_type": "markdown",
      "source": [
        "**Praktikum 4 Menghitung Umur Berdasarkan Tahun Lahir**"
      ],
      "metadata": {
        "id": "h48nHgCB7RnQ"
      }
    },
    {
      "cell_type": "code",
      "source": [
        "Tahun_Lahir = int(input(\"Masukkan Tahun Lahir: \"))\n",
        "Tahun_Sekarang = int(input(\"Masukkan Tahun Sekarang: \"))\n",
        "Umur = Tahun_Sekarang - Tahun_Lahir\n",
        "print(\"Umur Anda = \", Umur, \"tahun\")"
      ],
      "metadata": {
        "colab": {
          "base_uri": "https://localhost:8080/"
        },
        "id": "GCHLtCi86yaI",
        "outputId": "ded8f9b2-b453-4084-ab52-964b7c1ac8aa"
      },
      "execution_count": null,
      "outputs": [
        {
          "output_type": "stream",
          "name": "stdout",
          "text": [
            "Masukkan Tahun Lahir: 2006\n",
            "Masukkan Tahun Sekarang: 2025\n",
            "Umur Anda =  19 tahun\n"
          ]
        }
      ]
    },
    {
      "cell_type": "markdown",
      "source": [
        "**Praktikum 5 Menghitung Luas Lingkaran**"
      ],
      "metadata": {
        "id": "ZKoqZOYq8LjG"
      }
    },
    {
      "cell_type": "code",
      "source": [
        "import math\n",
        "r = float(input(\"Masukkan jari-jari Lingkaran: \"))\n",
        "Luas = math.pi * r * r\n",
        "print(\"Luas Lingkaran = \", Luas)"
      ],
      "metadata": {
        "colab": {
          "base_uri": "https://localhost:8080/"
        },
        "id": "8IVuWip5788l",
        "outputId": "7c2cdf79-c749-4c09-b852-be2da9ad85bd"
      },
      "execution_count": null,
      "outputs": [
        {
          "output_type": "stream",
          "name": "stdout",
          "text": [
            "Masukkan jari-jari Lingkaran: 12\n",
            "Luas Lingkaran =  452.3893421169302\n"
          ]
        }
      ]
    },
    {
      "cell_type": "markdown",
      "source": [
        "**Praktikum 6 Menjumlahkan Tiga Bilangan**"
      ],
      "metadata": {
        "id": "OM9N78skd5aK"
      }
    },
    {
      "cell_type": "code",
      "source": [
        "a = int(input(\"Masukkan Bilangan Pertama: \"))\n",
        "b = int(input(\"Masukkan Bilangan Kedua: \"))\n",
        "c = int(input(\"Masukkan Bilangan Ketiga: \"))\n",
        "jumlah = a + b + c\n",
        "print(\"Jumlah =\", jumlah)"
      ],
      "metadata": {
        "id": "dr8KtWc8F-E5",
        "colab": {
          "base_uri": "https://localhost:8080/"
        },
        "outputId": "5d69b419-c267-4bbb-fec8-7dab93c54305"
      },
      "execution_count": 2,
      "outputs": [
        {
          "output_type": "stream",
          "name": "stdout",
          "text": [
            "Masukkan Bilangan Pertama: 24\n",
            "Masukkan Bilangan Kedua: 25\n",
            "Masukkan Bilangan Ketiga: 1\n",
            "Jumlah = 50\n"
          ]
        }
      ]
    },
    {
      "cell_type": "code",
      "source": [],
      "metadata": {
        "id": "lkOWYJgWeaw4"
      },
      "execution_count": null,
      "outputs": []
    }
  ]
}