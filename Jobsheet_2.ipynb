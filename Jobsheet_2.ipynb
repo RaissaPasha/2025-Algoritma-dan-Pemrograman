{
  "nbformat": 4,
  "nbformat_minor": 0,
  "metadata": {
    "colab": {
      "provenance": [],
      "authorship_tag": "ABX9TyN9V6OukcnFOdiS+B7+oZre",
      "include_colab_link": true
    },
    "kernelspec": {
      "name": "python3",
      "display_name": "Python 3"
    },
    "language_info": {
      "name": "python"
    }
  },
  "cells": [
    {
      "cell_type": "markdown",
      "metadata": {
        "id": "view-in-github",
        "colab_type": "text"
      },
      "source": [
        "<a href=\"https://colab.research.google.com/github/RaissaPasha/2025-Algoritma-dan-Pemrograman/blob/main/Jobsheet_2.ipynb\" target=\"_parent\"><img src=\"https://colab.research.google.com/assets/colab-badge.svg\" alt=\"Open In Colab\"/></a>"
      ]
    },
    {
      "cell_type": "markdown",
      "source": [
        "**Praktikum 1 Pengenalan Variabel dan Tipe Data**"
      ],
      "metadata": {
        "id": "kcZyVFfD2AW3"
      }
    },
    {
      "cell_type": "code",
      "execution_count": null,
      "metadata": {
        "colab": {
          "base_uri": "https://localhost:8080/"
        },
        "id": "boy07mRi1ksl",
        "outputId": "5853ee88-d48e-4876-bfb0-9d4121d10ad9"
      },
      "outputs": [
        {
          "output_type": "stream",
          "name": "stdout",
          "text": [
            "Umur :  19 → <class 'int'>\n"
          ]
        }
      ],
      "source": [
        "# Integer\n",
        "umur = 19\n",
        "print(\"Umur : \", umur, \"→\", type(umur))"
      ]
    },
    {
      "cell_type": "code",
      "source": [
        "# Float\n",
        "tinggi = 174.5\n",
        "print(\"Tinggi : \", tinggi, \"→\", type(tinggi))"
      ],
      "metadata": {
        "colab": {
          "base_uri": "https://localhost:8080/"
        },
        "id": "vQOzZnzs2uQ9",
        "outputId": "8774c5d6-5df3-4ae3-e5d5-cc3d0ac99967"
      },
      "execution_count": null,
      "outputs": [
        {
          "output_type": "stream",
          "name": "stdout",
          "text": [
            "Tinggi :  174.5 → <class 'float'>\n"
          ]
        }
      ]
    },
    {
      "cell_type": "code",
      "source": [
        "# String\n",
        "nama = \"Pasha\"\n",
        "print(\"Nama : \", nama, \"→\", type(nama))"
      ],
      "metadata": {
        "colab": {
          "base_uri": "https://localhost:8080/"
        },
        "id": "kqYLKYNB3DbL",
        "outputId": "08624fb6-f77f-40e9-d27d-da0388ac3c78"
      },
      "execution_count": null,
      "outputs": [
        {
          "output_type": "stream",
          "name": "stdout",
          "text": [
            "Nama :  Pasha → <class 'str'>\n"
          ]
        }
      ]
    },
    {
      "cell_type": "code",
      "source": [
        "# Boolean\n",
        "is_mahasiswa = True\n",
        "print(\"Status Mahasiswa : \", is_mahasiswa, \"→\", type(is_mahasiswa))"
      ],
      "metadata": {
        "colab": {
          "base_uri": "https://localhost:8080/"
        },
        "id": "7cwX-UAm3UhK",
        "outputId": "cd1d2405-82cd-4fc5-cb4d-cfe5350ee64f"
      },
      "execution_count": null,
      "outputs": [
        {
          "output_type": "stream",
          "name": "stdout",
          "text": [
            "Status Mahasiswa :  True → <class 'bool'>\n"
          ]
        }
      ]
    },
    {
      "cell_type": "code",
      "source": [
        "# List\n",
        "nilai = [80, 85, 90, 95]\n",
        "print(\"Nilai : \", nilai, \"→\", type(nilai))"
      ],
      "metadata": {
        "colab": {
          "base_uri": "https://localhost:8080/"
        },
        "id": "U-c6qHgd33aJ",
        "outputId": "ff85b562-d91f-4717-bce7-d602eb563c9d"
      },
      "execution_count": null,
      "outputs": [
        {
          "output_type": "stream",
          "name": "stdout",
          "text": [
            "Nilai :  [80, 85, 90, 95] → <class 'list'>\n"
          ]
        }
      ]
    },
    {
      "cell_type": "code",
      "source": [
        "# Tuple\n",
        "koordinat = (18, 78)\n",
        "print(\"Koordinat : \", koordinat, \"→\", type(koordinat))"
      ],
      "metadata": {
        "colab": {
          "base_uri": "https://localhost:8080/"
        },
        "id": "4Z7whM684HqE",
        "outputId": "dbec421f-1e35-44fa-fadc-5a49b15f795b"
      },
      "execution_count": null,
      "outputs": [
        {
          "output_type": "stream",
          "name": "stdout",
          "text": [
            "Koordinat :  (18, 78) → <class 'tuple'>\n"
          ]
        }
      ]
    },
    {
      "cell_type": "code",
      "source": [
        "# Dictionary\n",
        "mahasiswa = {\"Nama\" : \"Pasha\", \"Umur\" : 18, \"Prodi\" : \"TRK\"}\n",
        "print(\"Data Mahasiswa : \", mahasiswa, \"→\", type(mahasiswa))"
      ],
      "metadata": {
        "colab": {
          "base_uri": "https://localhost:8080/"
        },
        "id": "CDnF2-5B4jt-",
        "outputId": "e9a500e5-50ff-415c-c7e5-2a9cd46bee2e"
      },
      "execution_count": null,
      "outputs": [
        {
          "output_type": "stream",
          "name": "stdout",
          "text": [
            "Data Mahasiswa :  {'Nama': 'Pasha', 'Umur': 18, 'Prodi': 'TRK'} → <class 'dict'>\n"
          ]
        }
      ]
    },
    {
      "cell_type": "code",
      "source": [
        "# Set\n",
        "hobi = {\"membaca\", \"olahraga\", \"musik\"}\n",
        "print(\"Hobi:\", hobi, \"→\", type(hobi))"
      ],
      "metadata": {
        "colab": {
          "base_uri": "https://localhost:8080/"
        },
        "id": "XKXRbOEe5aE1",
        "outputId": "b1f2d5af-30f6-4820-f0dc-af3dc14462b6"
      },
      "execution_count": null,
      "outputs": [
        {
          "output_type": "stream",
          "name": "stdout",
          "text": [
            "Hobi: {'musik', 'membaca', 'olahraga'} → <class 'set'>\n"
          ]
        }
      ]
    },
    {
      "cell_type": "markdown",
      "source": [
        "**Praktium 2 Input dan Output Dasar**"
      ],
      "metadata": {
        "id": "d-S4MFjR6CVn"
      }
    },
    {
      "cell_type": "code",
      "source": [
        "# Input string\n",
        "nama = input(\"Masukkan nama Anda : \")"
      ],
      "metadata": {
        "colab": {
          "base_uri": "https://localhost:8080/"
        },
        "id": "GfrsL9n0544R",
        "outputId": "b2dca2e8-b1c6-49d4-93d7-d9391b097b6c"
      },
      "execution_count": null,
      "outputs": [
        {
          "name": "stdout",
          "output_type": "stream",
          "text": [
            "Masukkan nama Anda : Pasha\n"
          ]
        }
      ]
    },
    {
      "cell_type": "code",
      "source": [
        "# Input Integer\n",
        "umur = int(input(\"Masukkan umur Anda : \"))"
      ],
      "metadata": {
        "colab": {
          "base_uri": "https://localhost:8080/"
        },
        "id": "M-g_ulP_63VE",
        "outputId": "1d98f101-919f-4ec9-debf-da2e432eb53f"
      },
      "execution_count": null,
      "outputs": [
        {
          "name": "stdout",
          "output_type": "stream",
          "text": [
            "Masukkan umur Anda : 19\n"
          ]
        }
      ]
    },
    {
      "cell_type": "code",
      "source": [
        "# Input Float\n",
        "tinggi = float(input(\"Masukkan tinggi badan Anda (cm): \"))"
      ],
      "metadata": {
        "id": "dLzh0hR97Bjm",
        "colab": {
          "base_uri": "https://localhost:8080/"
        },
        "outputId": "a6d54f0d-c6f4-46d3-d227-d30fda0fe485"
      },
      "execution_count": null,
      "outputs": [
        {
          "name": "stdout",
          "output_type": "stream",
          "text": [
            "Masukkan tinggi badan Anda (cm): 174\n"
          ]
        }
      ]
    },
    {
      "cell_type": "code",
      "source": [
        "# Output standar\n",
        "print(\"Halo,\", nama, \"umur Anda:\", umur, \"tahun, tinggi:\", tinggi, \"cm\")"
      ],
      "metadata": {
        "colab": {
          "base_uri": "https://localhost:8080/"
        },
        "id": "xMU1m6bEG5jA",
        "outputId": "68e89769-8464-468c-8b5f-e299f1f59a09"
      },
      "execution_count": null,
      "outputs": [
        {
          "output_type": "stream",
          "name": "stdout",
          "text": [
            "Halo, Pasha umur Anda: 19 tahun, tinggi: 174.0 cm\n"
          ]
        }
      ]
    },
    {
      "cell_type": "code",
      "source": [
        "# Output dengan format\n",
        "print(\"Halo {0}, umur Anda {1} tahun, tinggi {2} cm\".format(nama, umur, tinggi))"
      ],
      "metadata": {
        "colab": {
          "base_uri": "https://localhost:8080/"
        },
        "id": "eP8515EmHOEv",
        "outputId": "97c78e8b-d989-4f2d-d3cb-b6f5639056f6"
      },
      "execution_count": null,
      "outputs": [
        {
          "output_type": "stream",
          "name": "stdout",
          "text": [
            "Halo Pasha, umur Anda 19 tahum, tinggi 174.0 cm\n"
          ]
        }
      ]
    },
    {
      "cell_type": "code",
      "source": [
        "# Output dengan f-string\n",
        "print(f\"Halo {nama}, umur Anda {umur} tahun, tinggi {tinggi} cm\")"
      ],
      "metadata": {
        "colab": {
          "base_uri": "https://localhost:8080/"
        },
        "id": "MJLGP1RwH0AI",
        "outputId": "2069f3b3-1838-4b5b-bf11-c2d0c2f3a9a2"
      },
      "execution_count": null,
      "outputs": [
        {
          "output_type": "stream",
          "name": "stdout",
          "text": [
            "Halo Pasha, umur Anda 19 tahun, tinggi 174.0 cm\n"
          ]
        }
      ]
    },
    {
      "cell_type": "markdown",
      "source": [
        "**Praktikum 3 Operator Aritmatika**"
      ],
      "metadata": {
        "id": "6Z-ODN0pJCv2"
      }
    },
    {
      "cell_type": "code",
      "source": [
        "a = 15\n",
        "b = 4\n",
        "\n",
        "print(\"a + b = \", a + b)\n",
        "print(\"a - b = \", a - b)\n",
        "print(\"a * b = \", a * b)\n",
        "print(\"a / b = \", a / b)\n",
        "print(\"a // b = \", a // b)\n",
        "print(\"a % b = \", a % b)\n",
        "print(\"a ** b = \", a ** b)"
      ],
      "metadata": {
        "colab": {
          "base_uri": "https://localhost:8080/"
        },
        "id": "ZyUzAnQTIU7g",
        "outputId": "e11d97ad-0212-4782-ab34-5b7b0adeb265"
      },
      "execution_count": null,
      "outputs": [
        {
          "output_type": "stream",
          "name": "stdout",
          "text": [
            "a + b =  19\n",
            "a - b =  11\n",
            "a * b =  60\n",
            "a / b =  3.75\n",
            "a // b =  3\n",
            "a % b =  3\n",
            "a ** b =  50625\n"
          ]
        }
      ]
    },
    {
      "cell_type": "markdown",
      "source": [
        "**Praktikum 4 Operator Relasional**"
      ],
      "metadata": {
        "id": "_LVxhDw1Jv9K"
      }
    },
    {
      "cell_type": "code",
      "source": [
        "x = 10\n",
        "y = 20\n",
        "\n",
        "print(\"x == y : \", x == y)\n",
        "print(\"x != y : \", x != y)\n",
        "print(\"x < y : \", x < y)\n",
        "print(\"x > y : \", x > y)\n",
        "print(\"x <= y : \", x <= y)\n",
        "print(\"x >= y : \", x >= y)"
      ],
      "metadata": {
        "colab": {
          "base_uri": "https://localhost:8080/"
        },
        "id": "UJ5BoEfXJsuc",
        "outputId": "6ef14951-61d7-4ac0-d0f7-89ff1d4423fe"
      },
      "execution_count": null,
      "outputs": [
        {
          "output_type": "stream",
          "name": "stdout",
          "text": [
            "x == y :  False\n",
            "x != y :  True\n",
            "x < y :  True\n",
            "x > y :  False\n",
            "x <= y :  True\n",
            "x >= y :  False\n"
          ]
        }
      ]
    },
    {
      "cell_type": "markdown",
      "source": [
        "**Praktikum 5 Operator Logika dengan Studi Kasus Nyata**"
      ],
      "metadata": {
        "id": "30CNn5EfTWB_"
      }
    },
    {
      "cell_type": "code",
      "source": [
        "# Operator logika dasar\n",
        "a = True\n",
        "b = False\n",
        "\n",
        "print(\"a and b = \", a and b)\n",
        "print(\"a or b = \", a or b)\n",
        "print(\"a not b = \", not a)\n",
        "\n",
        "# Studi kasus nyata: Kelulusan\n",
        "nilai = int(input(\"Masukkan nilai ujian: \"))\n",
        "hadir = int(input(\"Masukkan jumlah kehadiran: \"))\n",
        "\n",
        "lulus_nilai = nilai >= 60\n",
        "lulus_hadir = hadir >= 12\n",
        "\n",
        "if lulus_nilai and lulus_hadir:\n",
        "  print(\"Status : Anda LULUS!\")\n",
        "else:\n",
        "  print(\"Status : Anda TIDAK LULUS!\")"
      ],
      "metadata": {
        "id": "E7TXjsU4KM44",
        "colab": {
          "base_uri": "https://localhost:8080/"
        },
        "outputId": "3a7faaae-02f0-4370-d099-0495afb2b101"
      },
      "execution_count": null,
      "outputs": [
        {
          "output_type": "stream",
          "name": "stdout",
          "text": [
            "a and b =  False\n",
            "a or b =  True\n",
            "a not b =  False\n",
            "Masukkan nilai ujian: 94\n",
            "Masukkan jumlah kehadiran: 24\n",
            "Status : Anda LULUS!\n"
          ]
        }
      ]
    },
    {
      "cell_type": "markdown",
      "source": [
        "**Praktikum 6 Program Kasir Sederhana**"
      ],
      "metadata": {
        "id": "qcNlEwBSVQ4m"
      }
    },
    {
      "cell_type": "code",
      "source": [
        "barang = input(\"Masukkan nama barang : \")\n",
        "harga = float(input(\"Masukkan harga barang : \"))\n",
        "jumlah = int(input(\"Masukkan jumlah barang : \"))\n",
        "\n",
        "total = harga * jumlah\n",
        "\n",
        "# Aturan diskon\n",
        "if total >= 500000:\n",
        "  diskon = 0.2\n",
        "elif total >= 250000:\n",
        "  diskon = 0.1\n",
        "else:\n",
        "  diskon = 0\n",
        "\n",
        "potongan = total * diskon\n",
        "bayar = total - potongan\n",
        "\n",
        "print(\"\\n===== Struk Belanja =====\")\n",
        "print(f\"Barang : {barang}\")\n",
        "print(f\"Jumlah : {jumlah}\")\n",
        "print(f\"Total : Rp {total}\")\n",
        "print(f\"Diskon : {diskon * 100}%\")\n",
        "print(f\"bayar : Rp {bayar}\")"
      ],
      "metadata": {
        "colab": {
          "base_uri": "https://localhost:8080/"
        },
        "id": "sGNNbGd7U39d",
        "outputId": "10a2d769-4584-43d4-ec1f-629af5b8346e"
      },
      "execution_count": null,
      "outputs": [
        {
          "output_type": "stream",
          "name": "stdout",
          "text": [
            "Masukkan nama barang : NYK Nemesis Blackhole X10\n",
            "Masukkan harga barang : 250000\n",
            "Masukkan jumlah barang : 2\n",
            "\n",
            "===== Struk Belanja =====\n",
            "Barang : NYK Nemesis Blackhole X10\n",
            "Jumlah : 2\n",
            "Total : Rp 500000.0\n",
            "Diskon : 20.0%\n",
            "bayar : Rp 400000.0\n"
          ]
        }
      ]
    },
    {
      "cell_type": "markdown",
      "source": [
        "**Penugasan**"
      ],
      "metadata": {
        "id": "vUHaX7Pno9LZ"
      }
    },
    {
      "cell_type": "markdown",
      "source": [
        "**Identitas Mahasiswa**"
      ],
      "metadata": {
        "id": "0Jd9NIObpooH"
      }
    },
    {
      "cell_type": "code",
      "source": [
        "# Program Identitas Mahasiswa\n",
        "nama = input(\"Masukkan nama Anda : \")\n",
        "umur = int(input(\"Masukkan umur Anda : \"))\n",
        "tinggi = float(input(\"Masukkan tinggi badan Anda (cm) : \"))\n",
        "status_aktif = bool(int(input(\"Apakah Aktif? (1 = Ya, 0 = Tidak) : \")))\n",
        "\n",
        "print(f\"\\n--- Data Mahasiswa ---\")\n",
        "print(f\"Nama         : {nama}\")\n",
        "print(f\"Umur         : {umur} tahun\")\n",
        "print(f\"Tinggi Badan : {tinggi} cm\")\n",
        "print(f\"Status Aktif : {status_aktif}\")"
      ],
      "metadata": {
        "id": "gwecYaw5Wjur",
        "colab": {
          "base_uri": "https://localhost:8080/"
        },
        "outputId": "f2408661-b27a-40b7-8fb9-0f536c3f4e5c"
      },
      "execution_count": null,
      "outputs": [
        {
          "output_type": "stream",
          "name": "stdout",
          "text": [
            "Masukkan nama Anda : Choirul Raissa Pasha\n",
            "Masukkan umur Anda : 19\n",
            "Masukkan tinggi badan Anda (cm) : 174\n",
            "Apakah Aktif? (1 = Ya, 0 = Tidak) : 1\n",
            "\n",
            "--- Data Mahasiswa ---\n",
            "Nama         : Choirul Raissa Pasha\n",
            "Umur         : 19 tahun\n",
            "Tinggi Badan : 174.0 cm\n",
            "Status Aktif : True\n"
          ]
        }
      ]
    },
    {
      "cell_type": "markdown",
      "source": [
        "**Operasi Aritmatika**"
      ],
      "metadata": {
        "id": "5qGQXQrYsVsU"
      }
    },
    {
      "cell_type": "code",
      "source": [
        "# Program Operasi Aritmatika\n",
        "a = int(input(\"Masukkan bilangan pertama : \"))\n",
        "b = int(input(\"Masukkan bilangan kedua : \"))\n",
        "\n",
        "print(\"\\n--- Hasil Operasi Aritmatika ---\")\n",
        "print(f\"Penjumlahan       : {a + b}\")\n",
        "print(f\"Pengurangan       : {a - b}\")\n",
        "print(f\"Perkalian         : {a * b}\")\n",
        "print(f\"Pembagian         : {a / b}\")\n",
        "print(f\"Sisa bagi (mod)   : {a % b}\")\n",
        "print(f\"Pangkat           : {a ** b}\")"
      ],
      "metadata": {
        "colab": {
          "base_uri": "https://localhost:8080/"
        },
        "id": "DAutP4zprhqH",
        "outputId": "e5b83a1d-015b-4a7e-e8c4-017730d7605c"
      },
      "execution_count": null,
      "outputs": [
        {
          "output_type": "stream",
          "name": "stdout",
          "text": [
            "Masukkan bilangan pertama : 3\n",
            "Masukkan bilangan kedua : 4\n",
            "\n",
            "--- Hasil Operasi Aritmatika ---\n",
            "Penjumlahan       : 7\n",
            "Pengurangan       : -1\n",
            "Perkalian         : 12\n",
            "Pembagian         : 0.75\n",
            "Sisa bagi (mod)   : 3\n",
            "Pangkat           : 81\n"
          ]
        }
      ]
    },
    {
      "cell_type": "markdown",
      "source": [
        "**Konversi Nilai**"
      ],
      "metadata": {
        "id": "eZlgxL-mtoCA"
      }
    },
    {
      "cell_type": "code",
      "source": [
        "# Konversi Nilai\n",
        "angka = float(input(\"Masukkan Angka Desimal : \"))\n",
        "\n",
        "print(\"\\n--- Hasil Konversi ---:\")\n",
        "print(f\"Dalam bentuk integer  : {int(angka)}\")\n",
        "print(f\"Dalam bentuk sting    : {str(angka)}\")\n",
        "print(f\"Dibulatkan (2 digit)  : {round(angka)}\")"
      ],
      "metadata": {
        "colab": {
          "base_uri": "https://localhost:8080/"
        },
        "id": "uHPX-BmRtX3C",
        "outputId": "846d68ba-36b8-4bcf-88f2-36ab2865d9c8"
      },
      "execution_count": null,
      "outputs": [
        {
          "output_type": "stream",
          "name": "stdout",
          "text": [
            "Masukkan Angka Desimal : 3.75\n",
            "\n",
            "--- Hasil Konversi ---:\n",
            "Dalam bentuk integer  : 3\n",
            "Dalam bentuk sting    : 3.75\n",
            "Dibulatkan (2 digit)  : 4\n"
          ]
        }
      ]
    },
    {
      "cell_type": "markdown",
      "source": [
        "**Operator Relasional**"
      ],
      "metadata": {
        "id": "Jhj2uc-00jCT"
      }
    },
    {
      "cell_type": "code",
      "source": [
        "# Membaca dua input bilangan\n",
        "a = float(input(\"Masukkan bilangan pertama: \"))\n",
        "b = float(input(\"Masukkan bilangan kedua: \"))\n",
        "\n",
        "# Menampilkan hasil perbandingan\n",
        "print(f\"{a} == {b} :\", a == b)\n",
        "print(f\"{a} != {b} :\", a != b)\n",
        "print(f\"{a} <  {b} :\", a < b)\n",
        "print(f\"{a} >  {b} :\", a > b)\n",
        "print(f\"{a} <= {b} :\", a <= b)\n",
        "print(f\"{a} >= {b} :\", a >= b)\n"
      ],
      "metadata": {
        "id": "iLiDRk-i04kf",
        "outputId": "c651916e-a57e-499a-949a-d53a312b862c",
        "colab": {
          "base_uri": "https://localhost:8080/"
        }
      },
      "execution_count": 1,
      "outputs": [
        {
          "output_type": "stream",
          "name": "stdout",
          "text": [
            "Masukkan bilangan pertama: 4\n",
            "Masukkan bilangan kedua: 5\n",
            "4.0 == 5.0 : False\n",
            "4.0 != 5.0 : True\n",
            "4.0 <  5.0 : True\n",
            "4.0 >  5.0 : False\n",
            "4.0 <= 5.0 : True\n",
            "4.0 >= 5.0 : False\n"
          ]
        }
      ]
    },
    {
      "cell_type": "code",
      "source": [],
      "metadata": {
        "id": "Ir-ecgbH0slN"
      },
      "execution_count": null,
      "outputs": []
    }
  ]
}