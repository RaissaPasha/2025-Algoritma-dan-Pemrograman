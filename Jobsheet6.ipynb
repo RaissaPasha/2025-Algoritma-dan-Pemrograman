{
  "nbformat": 4,
  "nbformat_minor": 0,
  "metadata": {
    "colab": {
      "provenance": [],
      "authorship_tag": "ABX9TyMlL/cKOdfZoF/epGPKvGZ9",
      "include_colab_link": true
    },
    "kernelspec": {
      "name": "python3",
      "display_name": "Python 3"
    },
    "language_info": {
      "name": "python"
    }
  },
  "cells": [
    {
      "cell_type": "markdown",
      "metadata": {
        "id": "view-in-github",
        "colab_type": "text"
      },
      "source": [
        "<a href=\"https://colab.research.google.com/github/RaissaPasha/2025-Algoritma-dan-Pemrograman/blob/main/Jobsheet6.ipynb\" target=\"_parent\"><img src=\"https://colab.research.google.com/assets/colab-badge.svg\" alt=\"Open In Colab\"/></a>"
      ]
    },
    {
      "cell_type": "markdown",
      "source": [
        "**Praktikum 01 – Membuat dan Mengakses List 1D**"
      ],
      "metadata": {
        "id": "MVnWAeB4PC8F"
      }
    },
    {
      "cell_type": "code",
      "execution_count": null,
      "metadata": {
        "colab": {
          "base_uri": "https://localhost:8080/"
        },
        "id": "SFHkS453O2RP",
        "outputId": "2fcc9202-5167-4fd5-e0e1-961e1cac6652"
      },
      "outputs": [
        {
          "output_type": "stream",
          "name": "stdout",
          "text": [
            "Andi\n",
            "Budi\n",
            "Cici\n"
          ]
        }
      ],
      "source": [
        "mahasiswa = [\"Andi\",\"Budi\",\"Cici\"]\n",
        "print(mahasiswa[0])      # Andi\n",
        "print(mahasiswa[1])      # Budi\n",
        "print(mahasiswa[-1])      # Cici"
      ]
    },
    {
      "cell_type": "markdown",
      "source": [
        "**Praktikum 02 – Update dan Operasi Dasar List**"
      ],
      "metadata": {
        "id": "u8YT-9W5PcSj"
      }
    },
    {
      "cell_type": "code",
      "source": [
        "nilai = [85, 90, 78]\n",
        "nilai [1] = 95\n",
        "nilai.append(100)\n",
        "nilai.remove(78)\n",
        "print(nilai)"
      ],
      "metadata": {
        "colab": {
          "base_uri": "https://localhost:8080/"
        },
        "id": "hx3w-ftOPX1l",
        "outputId": "a7a6f101-b124-4706-ef3b-e835939a2293"
      },
      "execution_count": null,
      "outputs": [
        {
          "output_type": "stream",
          "name": "stdout",
          "text": [
            "[85, 95, 100]\n"
          ]
        }
      ]
    },
    {
      "cell_type": "markdown",
      "source": [
        "**Praktikum 03 – Slicing List**"
      ],
      "metadata": {
        "id": "1AnXM20fPt51"
      }
    },
    {
      "cell_type": "code",
      "source": [
        "niali = [85, 90, 78, 92, 88]\n",
        "print(nilai[0:3]) # [85, 90, 78]\n",
        "print(nilai[2:]) # [78, 92, 88]\n",
        "print(nilai[:3]) # [85, 90, 78]\n"
      ],
      "metadata": {
        "colab": {
          "base_uri": "https://localhost:8080/"
        },
        "id": "adPCvfz0PrlG",
        "outputId": "d25496c3-82bb-4f5b-b714-0bf9403e62be"
      },
      "execution_count": null,
      "outputs": [
        {
          "output_type": "stream",
          "name": "stdout",
          "text": [
            "[85, 90, 78]\n",
            "[78, 92, 88]\n",
            "[85, 90, 78]\n"
          ]
        }
      ]
    },
    {
      "cell_type": "markdown",
      "source": [
        "**Praktikum 04 – List 2D (Matriks)**"
      ],
      "metadata": {
        "id": "a4Ghpci8QcDy"
      }
    },
    {
      "cell_type": "code",
      "source": [
        "matriks = [\n",
        "    [1, 2, 3],\n",
        "    [4, 5, 6],\n",
        "    [7, 8, 9]\n",
        "]\n",
        "\n",
        "print(matriks[0][0])  #1\n",
        "print(matriks[1][2])  #6\n",
        "print(matriks[2])  #[7, 8, 9]\n"
      ],
      "metadata": {
        "colab": {
          "base_uri": "https://localhost:8080/"
        },
        "id": "P8UwHJsdQK8K",
        "outputId": "5e06a9bc-42be-4165-c7a3-05b72b85e4ca"
      },
      "execution_count": null,
      "outputs": [
        {
          "output_type": "stream",
          "name": "stdout",
          "text": [
            "1\n",
            "6\n",
            "[7, 8, 9]\n"
          ]
        }
      ]
    },
    {
      "cell_type": "markdown",
      "source": [
        "**Praktikum 05 – Operasi pada List 2D**"
      ],
      "metadata": {
        "id": "cHaYPkZ4Q-fQ"
      }
    },
    {
      "cell_type": "code",
      "source": [
        "A = [[1,2,3], [4,5,6]]\n",
        "B = [[7,8,9], [10,11,12]]\n",
        "C = []\n",
        "\n",
        "for i in range(len(A)):\n",
        "  baris = []\n",
        "  for j in range(len(A[0])):\n",
        "    baris.append(A[i][j] + B[i][j])\n",
        "  C.append(baris)\n",
        "\n",
        "print(C)"
      ],
      "metadata": {
        "colab": {
          "base_uri": "https://localhost:8080/"
        },
        "id": "f35cB417Q493",
        "outputId": "03d85cbe-7205-415e-aeab-aff5d021b1de"
      },
      "execution_count": null,
      "outputs": [
        {
          "output_type": "stream",
          "name": "stdout",
          "text": [
            "[[8, 10, 12], [14, 16, 18]]\n"
          ]
        }
      ]
    },
    {
      "cell_type": "markdown",
      "source": [
        "**Praktikum 06 – Studi Kasus: Pengelolaan Nilai Mahasiswa:**"
      ],
      "metadata": {
        "id": "DdIyYuz3Rpi6"
      }
    },
    {
      "cell_type": "code",
      "source": [
        "nilai = [\n",
        "    [80, 90, 85],\n",
        "    [70, 75, 80],\n",
        "    [88, 92, 84]\n",
        "]\n",
        "\n",
        "for i, baris in enumerate(nilai, start=1):\n",
        "  rata = sum(baris) / len(baris)\n",
        "  print(f\"Rata-rata mahasiswa {i} : {rata:.2f}\")"
      ],
      "metadata": {
        "colab": {
          "base_uri": "https://localhost:8080/"
        },
        "id": "P4phzACKRsnQ",
        "outputId": "c8c84449-6921-4716-a236-360f3b0ef6c5"
      },
      "execution_count": null,
      "outputs": [
        {
          "output_type": "stream",
          "name": "stdout",
          "text": [
            "Rata-rata mahasiswa 1 : 85.00\n",
            "Rata-rata mahasiswa 2 : 75.00\n",
            "Rata-rata mahasiswa 3 : 88.00\n"
          ]
        }
      ]
    },
    {
      "cell_type": "markdown",
      "source": [
        "**Penugasan**"
      ],
      "metadata": {
        "id": "YF1hSjGxSK-B"
      }
    },
    {
      "cell_type": "markdown",
      "source": [
        "**Akses Elemen List**"
      ],
      "metadata": {
        "id": "IKwAOo_XSNeh"
      }
    },
    {
      "cell_type": "code",
      "source": [
        "mahasiswa =  [\"Andi\", \"Budi\", \"Cici\", \"Dewi\", \"Eka\"]\n",
        "print(mahasiswa[0]) # Nama pertama\n",
        "print(mahasiswa[-1]) # Nama terakhir\n",
        "print(mahasiswa[2]) # Nama indeks ke-2"
      ],
      "metadata": {
        "colab": {
          "base_uri": "https://localhost:8080/"
        },
        "id": "2I9eeFlIRfFW",
        "outputId": "f5f2f0b6-de9a-4c61-b289-7e3c77bb1821"
      },
      "execution_count": null,
      "outputs": [
        {
          "output_type": "stream",
          "name": "stdout",
          "text": [
            "Andi\n",
            "Eka\n",
            "Cici\n"
          ]
        }
      ]
    },
    {
      "cell_type": "markdown",
      "source": [
        "**Operasi Dasar List**"
      ],
      "metadata": {
        "id": "8TTuvE7kTIkg"
      }
    },
    {
      "cell_type": "code",
      "source": [
        "nilai = [70, 75, 80]\n",
        "nilai[1] = 85\n",
        "nilai.append(90)\n",
        "nilai.remove(70)\n",
        "print(nilai)"
      ],
      "metadata": {
        "colab": {
          "base_uri": "https://localhost:8080/"
        },
        "id": "AH7ekvSITA0a",
        "outputId": "c442a284-6fe0-4f49-f6ad-c94d5fac96e7"
      },
      "execution_count": null,
      "outputs": [
        {
          "output_type": "stream",
          "name": "stdout",
          "text": [
            "[85, 80, 90]\n"
          ]
        }
      ]
    },
    {
      "cell_type": "markdown",
      "source": [
        "**Slicing List** (Skipped)"
      ],
      "metadata": {
        "id": "5oaSPNW_TmTd"
      }
    },
    {
      "cell_type": "code",
      "source": [
        "angka = list(range(1, 11))\n",
        "print(angka[:3])  # 3 elemen pertama\n",
        "print(angka[-4:])  # 4 elemen terakhir\n",
        "print(angka[::2])  # elemen indeks genap"
      ],
      "metadata": {
        "colab": {
          "base_uri": "https://localhost:8080/"
        },
        "id": "pQx-HDFWTZ9T",
        "outputId": "1bbe69fd-7a70-4c5e-9095-747f87fe83be"
      },
      "execution_count": null,
      "outputs": [
        {
          "output_type": "stream",
          "name": "stdout",
          "text": [
            "[1, 2, 3]\n",
            "[7, 8, 9, 10]\n",
            "[1, 3, 5, 7, 9]\n"
          ]
        }
      ]
    },
    {
      "cell_type": "markdown",
      "source": [
        "**List 2D Matriks**"
      ],
      "metadata": {
        "id": "9uET6XVlUkLp"
      }
    },
    {
      "cell_type": "code",
      "source": [
        "matriks = [\n",
        "    [1, 2, 3],\n",
        "    [4, 5, 6]\n",
        "]\n",
        "print(matriks[0][1])  # Baris 1 kolom 2\n",
        "print(matriks[1][2])  # Baris 2 kolom 3\n",
        "print(matriks[0])  # Seluruh baris 1\n"
      ],
      "metadata": {
        "colab": {
          "base_uri": "https://localhost:8080/"
        },
        "id": "pA23gZhPT5R4",
        "outputId": "79161b62-7f5c-4668-ab91-114b6ab2b0af"
      },
      "execution_count": null,
      "outputs": [
        {
          "output_type": "stream",
          "name": "stdout",
          "text": [
            "2\n",
            "6\n",
            "[1, 2, 3]\n"
          ]
        }
      ]
    },
    {
      "cell_type": "markdown",
      "source": [
        "**Operasi Matriks 2D**"
      ],
      "metadata": {
        "id": "Xts42_cEVUqW"
      }
    },
    {
      "cell_type": "code",
      "source": [
        "A = [\n",
        "    [1, 2],\n",
        "    [3, 4]\n",
        "]\n",
        "B = [\n",
        "    [5, 6],\n",
        "    [7, 8]\n",
        "]\n",
        "C = []\n",
        "for i in range(len(A)):\n",
        "  baris = []\n",
        "  for j in range(len(A[0])):\n",
        "    baris.append(A[i][j] + B[i][j])\n",
        "  C.append(baris)\n",
        "\n",
        "print(C)"
      ],
      "metadata": {
        "colab": {
          "base_uri": "https://localhost:8080/"
        },
        "id": "RZpdV0I8VBxY",
        "outputId": "110dcace-3045-497b-dae8-067d38d5ee47"
      },
      "execution_count": null,
      "outputs": [
        {
          "output_type": "stream",
          "name": "stdout",
          "text": [
            "[[6, 8], [10, 12]]\n"
          ]
        }
      ]
    },
    {
      "cell_type": "markdown",
      "source": [
        "**Rata-rata Nilai Mahasiswa**"
      ],
      "metadata": {
        "id": "qdUQIUD3Y1UN"
      }
    },
    {
      "cell_type": "code",
      "source": [
        "nilai = [\n",
        "    [75, 80, 85],\n",
        "    [60, 70, 65],\n",
        "    [90, 95, 92]\n",
        "]\n",
        "\n",
        "for i, baris in enumerate(nilai, start=1):\n",
        "  rata = sum(baris) / len(baris)\n",
        "  print(f\"Rata-rata mahasiswa {i} = {rata:.2f}\")"
      ],
      "metadata": {
        "colab": {
          "base_uri": "https://localhost:8080/"
        },
        "id": "s_roasYVV_Gc",
        "outputId": "7fbc2e53-7989-4982-9677-cd34fa6c492c"
      },
      "execution_count": null,
      "outputs": [
        {
          "output_type": "stream",
          "name": "stdout",
          "text": [
            "Rata-rata mahasiswa 1 = 80.00\n",
            "Rata-rata mahasiswa 2 = 65.00\n",
            "Rata-rata mahasiswa 3 = 92.33\n"
          ]
        }
      ]
    },
    {
      "cell_type": "markdown",
      "source": [
        "**Studi Kasus Data Toko**"
      ],
      "metadata": {
        "id": "hiZEJnRHZpKw"
      }
    },
    {
      "cell_type": "code",
      "source": [
        "stok = [\n",
        "    [\"Buku\", 20],\n",
        "    [\"Pulpen\", 35],\n",
        "    [\"Penghapus\", 15]\n",
        "]\n",
        "\n",
        "for barang in stok:\n",
        "  print(f\"{barang[0]}: {barang[1]}\")\n",
        "\n",
        "# Cari barang dengan stok terbanyak\n",
        "stok_terbanyak = max(stok, key=lambda x: x[1])\n",
        "print(f\"Barang dengan stok terbanyak : {stok_terbanyak[0]} ({stok_terbanyak[1]})\")"
      ],
      "metadata": {
        "colab": {
          "base_uri": "https://localhost:8080/"
        },
        "id": "Id-BX7yLZZTH",
        "outputId": "1a8e2b3d-125d-4ed0-a5b9-702ced46e5b7"
      },
      "execution_count": null,
      "outputs": [
        {
          "output_type": "stream",
          "name": "stdout",
          "text": [
            "Buku: 20\n",
            "Pulpen: 35\n",
            "Penghapus: 15\n",
            "Barang dengan stok terbanyak : Pulpen (35)\n"
          ]
        }
      ]
    },
    {
      "cell_type": "code",
      "source": [],
      "metadata": {
        "id": "4dXMpUNbaYtW"
      },
      "execution_count": null,
      "outputs": []
    }
  ]
}