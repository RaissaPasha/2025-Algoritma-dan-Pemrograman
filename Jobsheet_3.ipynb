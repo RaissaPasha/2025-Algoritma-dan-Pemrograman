{
  "nbformat": 4,
  "nbformat_minor": 0,
  "metadata": {
    "colab": {
      "provenance": [],
      "authorship_tag": "ABX9TyOX3Ykg80zZF3rLhP9Z+Jp8",
      "include_colab_link": true
    },
    "kernelspec": {
      "name": "python3",
      "display_name": "Python 3"
    },
    "language_info": {
      "name": "python"
    }
  },
  "cells": [
    {
      "cell_type": "markdown",
      "metadata": {
        "id": "view-in-github",
        "colab_type": "text"
      },
      "source": [
        "<a href=\"https://colab.research.google.com/github/RaissaPasha/2025-Algoritma-dan-Pemrograman/blob/main/Jobsheet_3.ipynb\" target=\"_parent\"><img src=\"https://colab.research.google.com/assets/colab-badge.svg\" alt=\"Open In Colab\"/></a>"
      ]
    },
    {
      "cell_type": "markdown",
      "source": [
        "**Praktikum 1 If Sederhana**"
      ],
      "metadata": {
        "id": "TfE6j9ePd9bj"
      }
    },
    {
      "cell_type": "code",
      "execution_count": null,
      "metadata": {
        "colab": {
          "base_uri": "https://localhost:8080/"
        },
        "id": "9vCwUHojcxW8",
        "outputId": "65286557-900e-44dd-d4c7-f9ff7ac2346c"
      },
      "outputs": [
        {
          "output_type": "stream",
          "name": "stdout",
          "text": [
            "Masukkan nilai ujian : 70\n",
            "Selamat! Anda LULUS\n"
          ]
        }
      ],
      "source": [
        "nilai = int(input(\"Masukkan nilai ujian : \"))\n",
        "if nilai >= 60:\n",
        "  print(\"Selamat! Anda LULUS\")"
      ]
    },
    {
      "cell_type": "markdown",
      "source": [
        "**Praktikum 2 If-Else**"
      ],
      "metadata": {
        "id": "0jawuSd8eieS"
      }
    },
    {
      "cell_type": "code",
      "execution_count": null,
      "metadata": {
        "colab": {
          "base_uri": "https://localhost:8080/"
        },
        "outputId": "421a0f8d-3baa-4995-cc38-fc447889e489",
        "id": "h8dZBdqyeuQS"
      },
      "outputs": [
        {
          "output_type": "stream",
          "name": "stdout",
          "text": [
            "Masukkan nilai ujian : 50\n",
            "Maaf! Anda Tidak LULUS\n"
          ]
        }
      ],
      "source": [
        "nilai = int(input(\"Masukkan nilai ujian : \"))\n",
        "if nilai >= 60:\n",
        "  print(\"Selamat! Anda LULUS\")\n",
        "else:\n",
        "  print(\"Maaf! Anda Tidak LULUS\")"
      ]
    },
    {
      "cell_type": "markdown",
      "source": [
        "**Praktikum 3 If-Elif-Else**"
      ],
      "metadata": {
        "id": "c6FqpoDbezhB"
      }
    },
    {
      "cell_type": "code",
      "source": [
        "nilai = int(input(\"Masukkan nilai ujian : \"))\n",
        "\n",
        "if nilai >= 85:\n",
        "  grade = \"A\"\n",
        "elif nilai >= 70:\n",
        "  grade = \"B\"\n",
        "elif nilai >= 55:\n",
        "  grade = \"C\"\n",
        "elif nilai >= 40:\n",
        "  grade =\"D\"\n",
        "else:\n",
        "  grade = \"E\"\n",
        "\n",
        "print(f\"Nilai Anda adalah {nilai}, maka grade Anda = {grade}\")"
      ],
      "metadata": {
        "colab": {
          "base_uri": "https://localhost:8080/"
        },
        "id": "UeSfqghDew6q",
        "outputId": "419f514c-db11-4406-bdd8-1b48547bf081"
      },
      "execution_count": null,
      "outputs": [
        {
          "output_type": "stream",
          "name": "stdout",
          "text": [
            "Masukkan nilai ujian : 78\n",
            "Nilai Anda adalah 78, maka grade Anda = B\n"
          ]
        }
      ]
    },
    {
      "cell_type": "markdown",
      "source": [
        "**Praktikum 4 Nested If**"
      ],
      "metadata": {
        "id": "V8GfOdanfkxI"
      }
    },
    {
      "cell_type": "code",
      "source": [
        "ipk = float(input(\"Masukkan IPK : \"))\n",
        "sks = int(input(\"Masukkan jumlah SKS : \"))\n",
        "\n",
        "if ipk >= 3.0:\n",
        "  if sks >= 18:\n",
        "      print(\"Anda layak mendapatkan beasiswa\")\n",
        "  else:\n",
        "    print(\"IPK memenuhi, tapi SKS kurang\")\n",
        "else:\n",
        "  print(\"Anda TIDAK layak mendapat beasiswa\")\n"
      ],
      "metadata": {
        "colab": {
          "base_uri": "https://localhost:8080/"
        },
        "id": "OfPFtb1Pe9xi",
        "outputId": "319f008e-2e8d-4b34-e7a6-c20d7e9cbd36"
      },
      "execution_count": null,
      "outputs": [
        {
          "output_type": "stream",
          "name": "stdout",
          "text": [
            "Masukkan IPK : 2.8\n",
            "Masukkan jumlah SKS : 20\n",
            "Anda TIDAK layak mendapat beasiswa\n"
          ]
        }
      ]
    },
    {
      "cell_type": "markdown",
      "source": [
        "**Praktikum 5 Match-Core**"
      ],
      "metadata": {
        "id": "IjaN8qlUhrrY"
      }
    },
    {
      "cell_type": "code",
      "source": [
        "menu = int(input(\"Pilih menu (1-3): \"))\n",
        "\n",
        "match menu:\n",
        "  case 1:\n",
        "    print(\"Anda memilih Nasi Goreng\")\n",
        "  case 2:\n",
        "    print(\"Anda memilih Mie Ayam\")\n",
        "  case 3:\n",
        "    print(\"Anda memilih Soto Ayam\")\n",
        "  case _:\n",
        "    print(\"Menu tidak tersedia\")"
      ],
      "metadata": {
        "colab": {
          "base_uri": "https://localhost:8080/"
        },
        "id": "w6gvL-pHfkDJ",
        "outputId": "089a21aa-94b6-4ccd-de66-5a27e32cb566"
      },
      "execution_count": null,
      "outputs": [
        {
          "output_type": "stream",
          "name": "stdout",
          "text": [
            "Pilih menu (1-3): 9\n",
            "Menu tidak tersedia\n"
          ]
        }
      ]
    },
    {
      "cell_type": "markdown",
      "source": [
        "**Praktikum 6 Studi Kasus: Program kasir**"
      ],
      "metadata": {
        "id": "-CFYmzIHkAVf"
      }
    },
    {
      "cell_type": "code",
      "source": [
        "barang = input(\"Masukkan nama barang: \")\n",
        "harga = float(input(\"MAsukkan harga barang: \"))\n",
        "jumlah = int(input(\"Masukkan jumlah barang: \"))\n",
        "\n",
        "total = harga * jumlah\n",
        "\n",
        "if total >= 500000:\n",
        "  diskon = 0.2\n",
        "elif total >= 250000:\n",
        "  diskon = 0.1\n",
        "else:\n",
        "  diskon = 0\n",
        "\n",
        "bayar = total - (total * diskon)\n",
        "\n",
        "print(\"\\n===== Struk Belanja =====\")\n",
        "print(f\"Barang: {barang}\")\n",
        "print(f\"Jumlah: {jumlah}\")\n",
        "print(f\"Total: Rp {total}\")\n",
        "print(f\"Diskon: {diskon*100}%\")\n",
        "print(f\"Bayar: Rp {bayar}\")"
      ],
      "metadata": {
        "colab": {
          "base_uri": "https://localhost:8080/"
        },
        "id": "kz60eRFBj41g",
        "outputId": "a5b9d31f-6374-487b-ef26-0d2b28f36ed6"
      },
      "execution_count": null,
      "outputs": [
        {
          "output_type": "stream",
          "name": "stdout",
          "text": [
            "Masukkan nama barang: Pulpen\n",
            "MAsukkan harga barang: 5000\n",
            "Masukkan jumlah barang: 10\n",
            "\n",
            "===== Struk Belanja =====\n",
            "Barang: Pulpen\n",
            "Jumlah: 10\n",
            "Total: Rp 50000.0\n",
            "Diskon: 0%\n",
            "Bayar: Rp 50000.0\n"
          ]
        }
      ]
    },
    {
      "cell_type": "markdown",
      "source": [
        "**Penugasan**"
      ],
      "metadata": {
        "id": "53DKfNMXS9Yo"
      }
    },
    {
      "cell_type": "markdown",
      "source": [
        "**Cek Bilangan Positif/Negatif/Nol**"
      ],
      "metadata": {
        "id": "tHWHxcuVT78h"
      }
    },
    {
      "cell_type": "code",
      "source": [
        "# Program Cek Bilangan Positif, Negatif, Nol\n",
        "bilangan = int(input(\"Masukkan sebuah Bilangan Bulat : \"))\n",
        "\n",
        "if bilangan > 0:\n",
        "  print(\"Bilangan Positif\")\n",
        "elif bilangan < 0:\n",
        "  print(\"Bilangan Negatif\")\n",
        "else:\n",
        "  print(\"Bilangan Nol\")"
      ],
      "metadata": {
        "id": "28X6QOFblzU-",
        "colab": {
          "base_uri": "https://localhost:8080/"
        },
        "outputId": "3f9ce15b-23d4-4ec4-9800-1321e7bb1473"
      },
      "execution_count": null,
      "outputs": [
        {
          "output_type": "stream",
          "name": "stdout",
          "text": [
            "Masukkan sebuah Bilangan Bulat : -7\n",
            "Bilangan Negatif\n"
          ]
        }
      ]
    },
    {
      "cell_type": "markdown",
      "source": [
        "**Menentukan Kategori Usia**"
      ],
      "metadata": {
        "id": "peEP4HhuUeLo"
      }
    },
    {
      "cell_type": "code",
      "source": [
        "# Program Menentukan Kategori Usia\n",
        "umur = int(input(\"Masukkan Umur : \"))\n",
        "\n",
        "if umur < 5:\n",
        "  print(\"Kategori Balita\")\n",
        "elif umur <= 11:\n",
        "  print(\"Kategori Anak-Anak\")\n",
        "elif umur <= 17:\n",
        "  print(\"Kategori Remaja\")\n",
        "elif umur <= 59:\n",
        "  print(\"Kategori Dewasa\")\n",
        "else:\n",
        "  print(\"Kategori Lansia\")\n"
      ],
      "metadata": {
        "colab": {
          "base_uri": "https://localhost:8080/"
        },
        "id": "7DXMyXzMUZ4J",
        "outputId": "b8d7368b-8f8f-47d4-dea2-e8c3b506c498"
      },
      "execution_count": null,
      "outputs": [
        {
          "output_type": "stream",
          "name": "stdout",
          "text": [
            "Masukkan Umur : 19\n",
            "Kategori Dewasa\n"
          ]
        }
      ]
    },
    {
      "cell_type": "markdown",
      "source": [
        "**Hitung Tarif Parkir**"
      ],
      "metadata": {
        "id": "SoiJxIDLVNXp"
      }
    },
    {
      "cell_type": "code",
      "source": [
        "# Program Menghitung Tarif Parkir\n",
        "jam = int(input(\"Masukkan lama parkir : \"))\n",
        "\n",
        "if jam <=2:\n",
        "  tarif = 5000\n",
        "elif jam > 2:\n",
        "  tarif = 5000 + (jam - 2) * 2000\n",
        "  if tarif > 20000:\n",
        "    tarif = 20000\n",
        "\n",
        "print(f\"Total tarif parkir : RP {tarif}\")"
      ],
      "metadata": {
        "colab": {
          "base_uri": "https://localhost:8080/"
        },
        "id": "p4MNrmDVUa34",
        "outputId": "bd64e82d-feea-4db6-a351-6f4a76ffe87d"
      },
      "execution_count": null,
      "outputs": [
        {
          "output_type": "stream",
          "name": "stdout",
          "text": [
            "Masukkan lama parkir : 5\n",
            "Total tarif parkir : RP 11000\n"
          ]
        }
      ]
    },
    {
      "cell_type": "markdown",
      "source": [
        "**Cek Login Sederhana**"
      ],
      "metadata": {
        "id": "vo5PCFz8XD3Y"
      }
    },
    {
      "cell_type": "code",
      "source": [
        "# Program Cek Login Sederhana\n",
        "username = input(\"Masukkan Username : \")\n",
        "password = input(\"Masukkan Password : \")\n",
        "\n",
        "if username == \"admin\" and password == \"1234\":\n",
        "  print(\"Login Berhasil\")\n",
        "else:\n",
        "  print(\"Login Gagal\")"
      ],
      "metadata": {
        "colab": {
          "base_uri": "https://localhost:8080/"
        },
        "id": "pi6O74ANVUS9",
        "outputId": "0e8d2b38-d05e-4e2f-ce6e-7adbf57e2f12"
      },
      "execution_count": null,
      "outputs": [
        {
          "output_type": "stream",
          "name": "stdout",
          "text": [
            "Masukkan Username : admin\n",
            "Masukkan Password : 1234\n",
            "Login Berhasil\n"
          ]
        }
      ]
    },
    {
      "cell_type": "markdown",
      "source": [
        "**One-Liner If (Cek Genap/Ganjil)**"
      ],
      "metadata": {
        "id": "rcHYLtqXXl2x"
      }
    },
    {
      "cell_type": "code",
      "source": [
        "# Program Cek Bilangan Genap atau Ganjir (One-Liner If)\n",
        "bilangan = int(input(\"Masukkan sebuah Bilangan : \"))\n",
        "print(\"Genap\" if bilangan % 2 == 0 else \"Ganjil\")"
      ],
      "metadata": {
        "colab": {
          "base_uri": "https://localhost:8080/"
        },
        "id": "U9opPxJvXgba",
        "outputId": "5708bed3-805a-4686-8c0d-2f894aace424"
      },
      "execution_count": null,
      "outputs": [
        {
          "output_type": "stream",
          "name": "stdout",
          "text": [
            "Masukkan sebuah Bilangan : 6\n",
            "Genap\n"
          ]
        }
      ]
    },
    {
      "cell_type": "markdown",
      "source": [
        "**Menu Restoran dengan Match-Case**"
      ],
      "metadata": {
        "id": "9oimCadyYBmv"
      }
    },
    {
      "cell_type": "code",
      "source": [
        "# Program Menu Restoran dengan Match-Case\n",
        "print(\"=== Menu Restoran ===\")\n",
        "print(\"1. Nasi Goreng\")\n",
        "print(\"2. Mie Ayam\")\n",
        "print(\"3. Soto Ayam\")\n",
        "\n",
        "pilihan = int(input(\"Masukkan pilihan menu (1-3) : \"))\n",
        "\n",
        "match pilihan:\n",
        "  case 1:\n",
        "    print(\"Anda Memilih Nasi Goreng\")\n",
        "  case 2:\n",
        "    print(\"Anda Memilih Mie Ayam\")\n",
        "  case 3:\n",
        "    print(\"Anda Memilih Soto Ayam\")\n",
        "  case _:\n",
        "    print(\"Menu Tidak Tersedia\")"
      ],
      "metadata": {
        "colab": {
          "base_uri": "https://localhost:8080/"
        },
        "id": "XQwjSqtnYEt3",
        "outputId": "cd2a98d5-589b-4225-8633-cb0c20e364e5"
      },
      "execution_count": null,
      "outputs": [
        {
          "output_type": "stream",
          "name": "stdout",
          "text": [
            "=== Menu Restoran ===\n",
            "1. Nasi Goreng\n",
            "2. Mie Ayam\n",
            "3. Soto Ayam\n",
            "Masukkan pilihan menu (1-3) : 1\n",
            "Anda Memilih Nasi Goreng\n"
          ]
        }
      ]
    },
    {
      "cell_type": "markdown",
      "source": [
        "**Studi Kasus Nyata – Program Penentuan Diskon**"
      ],
      "metadata": {
        "id": "I_DIrF3lY_Mn"
      }
    },
    {
      "cell_type": "code",
      "source": [
        "# Program Penentuan Diskon Belanja\n",
        "nama_barang = input(\"Masukkan nama barang : \")\n",
        "harga = float(input(\"Masukkan harga barang : \"))\n",
        "jumlah = int(input(\"Masukkan jumlah barang : \"))\n",
        "\n",
        "total = harga * jumlah\n",
        "\n",
        "if total >= 500000:\n",
        "  diskon = 0.20\n",
        "elif total >= 250000:\n",
        "  diskon = 0.10\n",
        "else:\n",
        "  diskon = 0\n",
        "\n",
        "potongan = total * diskon\n",
        "bayar = total - potongan\n",
        "\n",
        "print(\"\\n=== STRUK BELANJA ===\")\n",
        "print(f\"Nama Barang : {nama_barang}\")\n",
        "print(f\"Harga Satuan : RP {harga:,.0f}\")\n",
        "print(f\"Jumlah : {jumlah}\")\n",
        "print(f\"Total harga : RP {total:,.0f}\")\n",
        "print(f\"Diskon : {diskon*100:.0f}%\")\n",
        "print(f\"Potongan : RP {potongan:,.0f}\")\n",
        "print(f\"Total Bayar : RP {bayar:,.0f}\")"
      ],
      "metadata": {
        "colab": {
          "base_uri": "https://localhost:8080/"
        },
        "id": "G-eNvW8CX99Z",
        "outputId": "84c4c95d-50f8-4347-9c44-0e4b98aa6641"
      },
      "execution_count": null,
      "outputs": [
        {
          "output_type": "stream",
          "name": "stdout",
          "text": [
            "Masukkan nama barang : MoonDrop Chu 2\n",
            "Masukkan harga barang : 395000\n",
            "Masukkan jumlah barang : 2\n",
            "\n",
            "=== STRUK BELANJA ===\n",
            "Nama Barang : MoonDrop Chu 2\n",
            "Harga Satuan : RP 395,000\n",
            "Jumlah : 2\n",
            "Total harga : RP 790,000\n",
            "Diskon : 20%\n",
            "Potongan : RP 158,000\n",
            "Total Bayar : RP 632,000\n"
          ]
        }
      ]
    },
    {
      "cell_type": "code",
      "source": [],
      "metadata": {
        "id": "Zsv9rAckajdG"
      },
      "execution_count": null,
      "outputs": []
    }
  ]
}