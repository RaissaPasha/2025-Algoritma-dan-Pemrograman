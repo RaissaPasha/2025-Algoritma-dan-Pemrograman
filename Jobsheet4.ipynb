{
  "nbformat": 4,
  "nbformat_minor": 0,
  "metadata": {
    "colab": {
      "provenance": [],
      "authorship_tag": "ABX9TyMOYm31UV+/Lh+J5QwVcNup",
      "include_colab_link": true
    },
    "kernelspec": {
      "name": "python3",
      "display_name": "Python 3"
    },
    "language_info": {
      "name": "python"
    }
  },
  "cells": [
    {
      "cell_type": "markdown",
      "metadata": {
        "id": "view-in-github",
        "colab_type": "text"
      },
      "source": [
        "<a href=\"https://colab.research.google.com/github/RaissaPasha/2025-Algoritma-dan-Pemrograman/blob/main/Jobsheet4.ipynb\" target=\"_parent\"><img src=\"https://colab.research.google.com/assets/colab-badge.svg\" alt=\"Open In Colab\"/></a>"
      ]
    },
    {
      "cell_type": "markdown",
      "source": [
        "**Praktikum 01 Perulangan For dengan Range**"
      ],
      "metadata": {
        "id": "h08-UtHI7NJf"
      }
    },
    {
      "cell_type": "code",
      "source": [
        "# Menampilkan angka dari 1 sampai 5\n",
        "\n",
        "for i in range(1,6):\n",
        "  print(i)"
      ],
      "metadata": {
        "colab": {
          "base_uri": "https://localhost:8080/"
        },
        "id": "4J2fC_cIs4Jl",
        "outputId": "2a639053-35d8-47a7-df88-b9982ab0607d"
      },
      "execution_count": null,
      "outputs": [
        {
          "output_type": "stream",
          "name": "stdout",
          "text": [
            "1\n",
            "2\n",
            "3\n",
            "4\n",
            "5\n"
          ]
        }
      ]
    },
    {
      "cell_type": "markdown",
      "source": [
        "**Praktikum 02 Perulangan While**"
      ],
      "metadata": {
        "id": "HG6GiLeN8Uge"
      }
    },
    {
      "cell_type": "code",
      "source": [
        "# Menghitung Mundur dari angka yang dimasukkan pengguna\n",
        "\n",
        "n = int(input(\"Masukkan angka: \"))\n",
        "while n > 0:\n",
        "  print(n)\n",
        "  n -= 1"
      ],
      "metadata": {
        "colab": {
          "base_uri": "https://localhost:8080/"
        },
        "id": "ORl_4QYf8Tn-",
        "outputId": "540e4241-cfa0-48d6-a0e8-5166599d9491"
      },
      "execution_count": null,
      "outputs": [
        {
          "output_type": "stream",
          "name": "stdout",
          "text": [
            "Masukkan angka: 5\n",
            "5\n",
            "4\n",
            "3\n",
            "2\n",
            "1\n"
          ]
        }
      ]
    },
    {
      "cell_type": "markdown",
      "source": [
        "**Praktikum 03 Nested Loop**"
      ],
      "metadata": {
        "id": "PgK2Y4vW8wiY"
      }
    },
    {
      "cell_type": "code",
      "source": [
        "# Membuat pola segitiga bintang\n",
        "\n",
        "for i in range(1,6):\n",
        "  for j in range(i):\n",
        "    print(\"*\", end=\"\")\n",
        "  print()"
      ],
      "metadata": {
        "colab": {
          "base_uri": "https://localhost:8080/"
        },
        "id": "QZSH-53a8rvv",
        "outputId": "80c69004-2ec9-4302-f0f6-cf1f8651cae4"
      },
      "execution_count": null,
      "outputs": [
        {
          "output_type": "stream",
          "name": "stdout",
          "text": [
            "*\n",
            "**\n",
            "***\n",
            "****\n",
            "*****\n"
          ]
        }
      ]
    },
    {
      "cell_type": "markdown",
      "source": [
        "**Praktikum 04 Break dan Continue**"
      ],
      "metadata": {
        "id": "-pM-2sbx9Zso"
      }
    },
    {
      "cell_type": "code",
      "source": [
        "# Menghentikan perulangan ketika menemukan angka 5\n",
        "\n",
        "for i in range(1, 11):\n",
        "  if i == 5:\n",
        "    print(\"Angka 5 Ditemukan\")\n",
        "    break"
      ],
      "metadata": {
        "colab": {
          "base_uri": "https://localhost:8080/"
        },
        "id": "IW6HW05e9XbH",
        "outputId": "e79d30fd-1d59-4b1b-ac8d-936d7bba43e4"
      },
      "execution_count": null,
      "outputs": [
        {
          "output_type": "stream",
          "name": "stdout",
          "text": [
            "Angka 5 Ditemukan\n"
          ]
        }
      ]
    },
    {
      "cell_type": "code",
      "source": [
        "# Melewati bilangan ganjil dan hanya menampilkan bilangan genap dari 1-5\n",
        "\n",
        "for i in range(1,6):\n",
        "  if i % 2 == 1:\n",
        "    continue\n",
        "  print(i)"
      ],
      "metadata": {
        "colab": {
          "base_uri": "https://localhost:8080/"
        },
        "id": "1Dbzl_mw95SK",
        "outputId": "787c08f8-38c6-4643-8305-2c341862fc36"
      },
      "execution_count": null,
      "outputs": [
        {
          "output_type": "stream",
          "name": "stdout",
          "text": [
            "2\n",
            "4\n"
          ]
        }
      ]
    },
    {
      "cell_type": "markdown",
      "source": [
        "**Praktikum 05 For pada Dictionary**"
      ],
      "metadata": {
        "id": "WMdsk2sN9xOc"
      }
    },
    {
      "cell_type": "code",
      "source": [
        "# Menampilkan isi dictionary mahasiswa\n",
        "\n",
        "data = {\"Nama\": \"Andi\", \"Umur\" : 20, \"Prodi\" : \"TRK\"}\n",
        "\n",
        "for k, v in data.items():\n",
        "  print(k, \":\", v)"
      ],
      "metadata": {
        "colab": {
          "base_uri": "https://localhost:8080/"
        },
        "id": "rKaAF2mH9swR",
        "outputId": "571ea06d-b0cb-4994-a7d3-e9e01c0b6423"
      },
      "execution_count": null,
      "outputs": [
        {
          "output_type": "stream",
          "name": "stdout",
          "text": [
            "Nama : Andi\n",
            "Umur : 20\n",
            "Prodi : TRK\n"
          ]
        }
      ]
    },
    {
      "cell_type": "markdown",
      "source": [
        "**Praktikum 06 For dengan Enumerate**"
      ],
      "metadata": {
        "id": "THyRaBML-qwb"
      }
    },
    {
      "cell_type": "code",
      "source": [
        "# Menampilkan daftar nama dengan nomor urut\n",
        "\n",
        "daftar = [\"Andi\", \"Budi\", \"Cici\"]\n",
        "\n",
        "for i, nama in enumerate(daftar, start=1):\n",
        "  print(i, nama)"
      ],
      "metadata": {
        "colab": {
          "base_uri": "https://localhost:8080/"
        },
        "id": "xq4wCvA7gnca",
        "outputId": "2ba07507-3874-4197-c90b-d3b5cda77082"
      },
      "execution_count": 10,
      "outputs": [
        {
          "output_type": "stream",
          "name": "stdout",
          "text": [
            "1 Andi\n",
            "2 Budi\n",
            "3 Cici\n"
          ]
        }
      ]
    },
    {
      "cell_type": "markdown",
      "source": [
        "**Praktikum 07 Studi Kasus: Program Kasir Multi-Item**"
      ],
      "metadata": {
        "id": "KQjYwsvT_WEl"
      }
    },
    {
      "cell_type": "code",
      "source": [
        "# Menghitung total belanja beberapa item\n",
        "\n",
        "total = 0\n",
        "\n",
        "while True:\n",
        "  barang = input(\"Masukkan nama barang (ketik 'selesai' untuk berhenti): \")\n",
        "  if barang.lower() == \"selesai\":\n",
        "    break\n",
        "\n",
        "  harga = float(input(F\"Masukkan harga {barang}: \"))\n",
        "  jumlah = int(input(f\"Masukkan jumlah {barang}: \"))\n",
        "\n",
        "  subtotal = harga * jumlah\n",
        "  total += subtotal\n",
        "\n",
        "print(\"\\n===== Struk Belanja =====\")\n",
        "print(f\"Total Belanja : RP {total:,.0f}\")"
      ],
      "metadata": {
        "colab": {
          "base_uri": "https://localhost:8080/"
        },
        "id": "JKqK4AKf_TUA",
        "outputId": "100c75b8-3750-4d09-b037-9a04a3dceb26"
      },
      "execution_count": null,
      "outputs": [
        {
          "output_type": "stream",
          "name": "stdout",
          "text": [
            "Masukkan nama barang (ketik 'selesai' untuk berhenti): Buku\n",
            "Masukkan harga Buku: 50000\n",
            "Masukkan jumlah Buku: 2\n",
            "Masukkan nama barang (ketik 'selesai' untuk berhenti): Pulpen\n",
            "Masukkan harga Pulpen: 5000\n",
            "Masukkan jumlah Pulpen: 3\n",
            "Masukkan nama barang (ketik 'selesai' untuk berhenti): selesai\n",
            "\n",
            "===== Struk Belanja =====\n",
            "Total Belanja : RP 115,000\n"
          ]
        }
      ]
    },
    {
      "cell_type": "markdown",
      "source": [
        "**Penugasan**"
      ],
      "metadata": {
        "id": "rGSlyCF4JNtW"
      }
    },
    {
      "cell_type": "markdown",
      "source": [
        "**Menampilkan Deret Angka**"
      ],
      "metadata": {
        "id": "sbSVDGcLJQP-"
      }
    },
    {
      "cell_type": "code",
      "source": [
        "for i in range(3, 31):\n",
        "  if i % 3 == 0:\n",
        "    print(i)"
      ],
      "metadata": {
        "id": "bkzjDQzDAURG",
        "colab": {
          "base_uri": "https://localhost:8080/"
        },
        "outputId": "3baa0f69-760e-4f2a-f74b-42ea6722be86"
      },
      "execution_count": null,
      "outputs": [
        {
          "output_type": "stream",
          "name": "stdout",
          "text": [
            "3\n",
            "6\n",
            "9\n",
            "12\n",
            "15\n",
            "18\n",
            "21\n",
            "24\n",
            "27\n",
            "30\n"
          ]
        }
      ]
    },
    {
      "cell_type": "markdown",
      "source": [
        "**Hitung Faktorial**"
      ],
      "metadata": {
        "id": "TOu8mJaDJoIO"
      }
    },
    {
      "cell_type": "code",
      "source": [
        "n = int(input(\"Masukkan angka : \"))\n",
        "hasil = 1\n",
        "i = 1\n",
        "while i <= n:\n",
        "  hasil *= i\n",
        "  i += 1\n",
        "print (\"Faktorial : \", hasil)"
      ],
      "metadata": {
        "colab": {
          "base_uri": "https://localhost:8080/"
        },
        "id": "5feuSPLfJjkj",
        "outputId": "eedcd0f7-4e0f-4375-c015-65c3a159c6ea"
      },
      "execution_count": null,
      "outputs": [
        {
          "output_type": "stream",
          "name": "stdout",
          "text": [
            "Masukkan angka : 5\n",
            "Faktorial :  120\n"
          ]
        }
      ]
    },
    {
      "cell_type": "markdown",
      "source": [
        "**Pola Segitiga Terbalik**"
      ],
      "metadata": {
        "id": "mXjEFYeiKfIH"
      }
    },
    {
      "cell_type": "code",
      "source": [
        "tinggi = 5\n",
        "for i in range(tinggi, 0, -1):\n",
        "  print(\"*\" * i)"
      ],
      "metadata": {
        "colab": {
          "base_uri": "https://localhost:8080/"
        },
        "id": "SM-bv3L2J8LQ",
        "outputId": "2db98723-4291-4576-8853-712ec366c527"
      },
      "execution_count": null,
      "outputs": [
        {
          "output_type": "stream",
          "name": "stdout",
          "text": [
            "*****\n",
            "****\n",
            "***\n",
            "**\n",
            "*\n"
          ]
        }
      ]
    },
    {
      "cell_type": "markdown",
      "source": [
        "**Cari Bilangan Prima dengan Break**"
      ],
      "metadata": {
        "id": "3XcpVBsSKv5X"
      }
    },
    {
      "cell_type": "code",
      "source": [
        "angka = int(input(\"Masukkan sebuah bilangan : \"))\n",
        "if angka > 1:\n",
        "  for i in range(2, angka):\n",
        "    if angka % i == 0:\n",
        "      print(angka, \"bukan bilangan prima\")\n",
        "      break\n",
        "  else:\n",
        "    print(angka, \"adalah bilangan prima\")\n",
        "else:\n",
        "  print(angka, \"bukan bilangan prima\")"
      ],
      "metadata": {
        "colab": {
          "base_uri": "https://localhost:8080/"
        },
        "id": "IMs4u9rSKs7g",
        "outputId": "e254b897-f449-435c-fbd6-e6098e5fa5c4"
      },
      "execution_count": null,
      "outputs": [
        {
          "output_type": "stream",
          "name": "stdout",
          "text": [
            "Masukkan sebuah bilangan : 3\n",
            "3 adalah bilangan prima\n"
          ]
        }
      ]
    },
    {
      "cell_type": "markdown",
      "source": [
        "**Tampilkan Hanya Bilangan Genap dengan Continue**"
      ],
      "metadata": {
        "id": "VSqoQPubLUV2"
      }
    },
    {
      "cell_type": "code",
      "source": [
        "for i in range(1,21):\n",
        "  if i % 2 != 0:\n",
        "    continue\n",
        "  print(i)"
      ],
      "metadata": {
        "colab": {
          "base_uri": "https://localhost:8080/"
        },
        "id": "1UoxvkisLQ3R",
        "outputId": "9d309ddc-6f86-45b4-a5bb-40324370dfca"
      },
      "execution_count": null,
      "outputs": [
        {
          "output_type": "stream",
          "name": "stdout",
          "text": [
            "2\n",
            "4\n",
            "6\n",
            "8\n",
            "10\n",
            "12\n",
            "14\n",
            "16\n",
            "18\n",
            "20\n"
          ]
        }
      ]
    },
    {
      "cell_type": "markdown",
      "source": [
        "**Iterasi Dictionary Mahasiswa**"
      ],
      "metadata": {
        "id": "Y7LW9bgZLhMd"
      }
    },
    {
      "cell_type": "code",
      "source": [
        "mahasiswa = {\"Nama\":\"Budi\", \"Umur\":21, \"Prodi\":\"Teknik Komputer\"}\n",
        "for k, v in mahasiswa.items():\n",
        "  print(f\"{k} : {v}\")"
      ],
      "metadata": {
        "colab": {
          "base_uri": "https://localhost:8080/"
        },
        "id": "He0QID0oLf3E",
        "outputId": "6b4b9f8c-207d-43db-c409-06dde043366a"
      },
      "execution_count": null,
      "outputs": [
        {
          "output_type": "stream",
          "name": "stdout",
          "text": [
            "Nama : Budi\n",
            "Umur : 21\n",
            "Prodi : Teknik Komputer\n"
          ]
        }
      ]
    },
    {
      "cell_type": "markdown",
      "source": [
        "**Enumerate Daftar Barang**"
      ],
      "metadata": {
        "id": "E-P20_y8L-4d"
      }
    },
    {
      "cell_type": "code",
      "source": [
        "barang = [\"Buku\", \"Pulpen\", \"tas\"]\n",
        "for idx, item in enumerate(barang, start=1):\n",
        "  print(f\"{idx} {item}\")"
      ],
      "metadata": {
        "colab": {
          "base_uri": "https://localhost:8080/"
        },
        "id": "sNPpxx7wL-CS",
        "outputId": "3ba4e060-3f3f-4b9c-e61f-4ac849cd63b8"
      },
      "execution_count": null,
      "outputs": [
        {
          "output_type": "stream",
          "name": "stdout",
          "text": [
            "1 Buku\n",
            "2 Pulpen\n",
            "3 tas\n"
          ]
        }
      ]
    },
    {
      "cell_type": "markdown",
      "source": [
        "**Studi Kasus – Kasir Diskon**"
      ],
      "metadata": {
        "id": "rlUPNr1PMTE-"
      }
    },
    {
      "cell_type": "code",
      "source": [
        "total = 0\n",
        "while True:\n",
        "  barang = input(\"Masukkan nama barang (atau ketik 'selesai'): \")\n",
        "  if barang.lower() == \"selesai\":\n",
        "    break\n",
        "  harga = int(input(\"Masukkan harga barang : \"))\n",
        "  total += harga\n",
        "\n",
        "if total >= 200000:\n",
        "  diskon = total * 0.10\n",
        "else:\n",
        "  diskon = 0\n",
        "\n",
        "total_bayar = total - diskon\n",
        "print(f\"Total : RP {total}\")\n",
        "print(f\"Diskon : RP {diskon}\")\n",
        "print(f\"Total Bayar : RP {total_bayar}\")"
      ],
      "metadata": {
        "colab": {
          "base_uri": "https://localhost:8080/"
        },
        "id": "OoZ_XZn-MRsy",
        "outputId": "3cbbcc7b-81f3-4f2a-e9fc-68207076dfe6"
      },
      "execution_count": null,
      "outputs": [
        {
          "output_type": "stream",
          "name": "stdout",
          "text": [
            "Masukkan nama barang (atau ketik 'selesai'): Coolingpad\n",
            "Masukkan harga barang : 295000\n",
            "Masukkan nama barang (atau ketik 'selesai'): Thermal Paste\n",
            "Masukkan harga barang : 230000\n",
            "Masukkan nama barang (atau ketik 'selesai'): selesai\n",
            "Total : RP 525000\n",
            "Diskon : RP 52500.0\n",
            "Total Bayar : RP 472500.0\n"
          ]
        }
      ]
    },
    {
      "cell_type": "code",
      "source": [],
      "metadata": {
        "id": "_dWEWgwYNTnJ"
      },
      "execution_count": null,
      "outputs": []
    }
  ]
}