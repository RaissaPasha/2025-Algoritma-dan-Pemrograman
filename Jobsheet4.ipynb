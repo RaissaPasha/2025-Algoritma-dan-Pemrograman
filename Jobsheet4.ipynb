{
  "nbformat": 4,
  "nbformat_minor": 0,
  "metadata": {
    "colab": {
      "provenance": [],
      "authorship_tag": "ABX9TyP2xjufcOEvj+IdvJXSCI9b",
      "include_colab_link": true
    },
    "kernelspec": {
      "name": "python3",
      "display_name": "Python 3"
    },
    "language_info": {
      "name": "python"
    }
  },
  "cells": [
    {
      "cell_type": "markdown",
      "metadata": {
        "id": "view-in-github",
        "colab_type": "text"
      },
      "source": [
        "<a href=\"https://colab.research.google.com/github/RaissaPasha/2025-Algoritma-dan-Pemrograman/blob/main/Jobsheet4.ipynb\" target=\"_parent\"><img src=\"https://colab.research.google.com/assets/colab-badge.svg\" alt=\"Open In Colab\"/></a>"
      ]
    },
    {
      "cell_type": "markdown",
      "source": [
        "**Praktikum 01 Perulangan For dengan Range**"
      ],
      "metadata": {
        "id": "h08-UtHI7NJf"
      }
    },
    {
      "cell_type": "code",
      "source": [
        "# Menampilkan angka dari 1 sampai 5\n",
        "\n",
        "for i in range(1,6):\n",
        "  print(i)"
      ],
      "metadata": {
        "colab": {
          "base_uri": "https://localhost:8080/"
        },
        "id": "4J2fC_cIs4Jl",
        "outputId": "2a639053-35d8-47a7-df88-b9982ab0607d"
      },
      "execution_count": null,
      "outputs": [
        {
          "output_type": "stream",
          "name": "stdout",
          "text": [
            "1\n",
            "2\n",
            "3\n",
            "4\n",
            "5\n"
          ]
        }
      ]
    },
    {
      "cell_type": "markdown",
      "source": [
        "**Praktikum 02 Perulangan While**"
      ],
      "metadata": {
        "id": "HG6GiLeN8Uge"
      }
    },
    {
      "cell_type": "code",
      "source": [
        "# Menghitung Mundur dari angka yang dimasukkan pengguna\n",
        "\n",
        "n = int(input(\"Masukkan angka: \"))\n",
        "while n > 0:\n",
        "  print(n)\n",
        "  n -= 1"
      ],
      "metadata": {
        "colab": {
          "base_uri": "https://localhost:8080/"
        },
        "id": "ORl_4QYf8Tn-",
        "outputId": "540e4241-cfa0-48d6-a0e8-5166599d9491"
      },
      "execution_count": null,
      "outputs": [
        {
          "output_type": "stream",
          "name": "stdout",
          "text": [
            "Masukkan angka: 5\n",
            "5\n",
            "4\n",
            "3\n",
            "2\n",
            "1\n"
          ]
        }
      ]
    },
    {
      "cell_type": "markdown",
      "source": [
        "**Praktikum 03 Nested Loop**"
      ],
      "metadata": {
        "id": "PgK2Y4vW8wiY"
      }
    },
    {
      "cell_type": "code",
      "source": [
        "# Membuat pola segitiga bintang\n",
        "\n",
        "for i in range(1,6):\n",
        "  for j in range(i):\n",
        "    print(\"*\", end=\"\")\n",
        "  print()"
      ],
      "metadata": {
        "colab": {
          "base_uri": "https://localhost:8080/"
        },
        "id": "QZSH-53a8rvv",
        "outputId": "80c69004-2ec9-4302-f0f6-cf1f8651cae4"
      },
      "execution_count": null,
      "outputs": [
        {
          "output_type": "stream",
          "name": "stdout",
          "text": [
            "*\n",
            "**\n",
            "***\n",
            "****\n",
            "*****\n"
          ]
        }
      ]
    },
    {
      "cell_type": "markdown",
      "source": [
        "**Praktikum 04 Break dan Continue**"
      ],
      "metadata": {
        "id": "-pM-2sbx9Zso"
      }
    },
    {
      "cell_type": "code",
      "source": [
        "# Menghentikan perulangan ketika menemukan angka 5\n",
        "\n",
        "for i in range(1, 11):\n",
        "  if i == 5:\n",
        "    print(\"Angka 5 Ditemukan\")\n",
        "    break"
      ],
      "metadata": {
        "colab": {
          "base_uri": "https://localhost:8080/"
        },
        "id": "IW6HW05e9XbH",
        "outputId": "e79d30fd-1d59-4b1b-ac8d-936d7bba43e4"
      },
      "execution_count": null,
      "outputs": [
        {
          "output_type": "stream",
          "name": "stdout",
          "text": [
            "Angka 5 Ditemukan\n"
          ]
        }
      ]
    },
    {
      "cell_type": "code",
      "source": [
        "# Melewati bilangan ganjil dan hanya menampilkan bilangan genap dari 1-5\n",
        "\n",
        "for i in range(1,6):\n",
        "  if i % 2 == 1:\n",
        "    continue\n",
        "  print(i)"
      ],
      "metadata": {
        "colab": {
          "base_uri": "https://localhost:8080/"
        },
        "id": "1Dbzl_mw95SK",
        "outputId": "787c08f8-38c6-4643-8305-2c341862fc36"
      },
      "execution_count": null,
      "outputs": [
        {
          "output_type": "stream",
          "name": "stdout",
          "text": [
            "2\n",
            "4\n"
          ]
        }
      ]
    },
    {
      "cell_type": "markdown",
      "source": [
        "**Praktikum 05 For pada Dictionary**"
      ],
      "metadata": {
        "id": "WMdsk2sN9xOc"
      }
    },
    {
      "cell_type": "code",
      "source": [
        "# Menampilkan isi dictionary mahasiswa\n",
        "\n",
        "data = {\"Nama\": \"Andi\", \"Umur\" : 20, \"Prodi\" : \"TRK\"}\n",
        "\n",
        "for k, v in data.items():\n",
        "  print(k, \":\", v)"
      ],
      "metadata": {
        "colab": {
          "base_uri": "https://localhost:8080/"
        },
        "id": "rKaAF2mH9swR",
        "outputId": "571ea06d-b0cb-4994-a7d3-e9e01c0b6423"
      },
      "execution_count": null,
      "outputs": [
        {
          "output_type": "stream",
          "name": "stdout",
          "text": [
            "Nama : Andi\n",
            "Umur : 20\n",
            "Prodi : TRK\n"
          ]
        }
      ]
    },
    {
      "cell_type": "markdown",
      "source": [
        "**Praktikum 06 For dengan Enumerate**"
      ],
      "metadata": {
        "id": "THyRaBML-qwb"
      }
    },
    {
      "cell_type": "code",
      "source": [
        "# Menampilkan daftar nama dengan nomor urut\n",
        "\n",
        "daftar = {\"Andi\", \"Budi\", \"Cici\"}\n",
        "\n",
        "for i, nama in enumerate(daftar, start=1):\n",
        "  print(i, nama)"
      ],
      "metadata": {
        "colab": {
          "base_uri": "https://localhost:8080/"
        },
        "id": "oO6Xta53-p_n",
        "outputId": "f8d6b48c-21ed-48eb-d50f-0fbbd3129bdb"
      },
      "execution_count": null,
      "outputs": [
        {
          "output_type": "stream",
          "name": "stdout",
          "text": [
            "1 Cici\n",
            "2 Andi\n",
            "3 Budi\n"
          ]
        }
      ]
    },
    {
      "cell_type": "markdown",
      "source": [
        "**Praktikum 07 Studi Kasus: Program Kasir Multi-Item**"
      ],
      "metadata": {
        "id": "KQjYwsvT_WEl"
      }
    },
    {
      "cell_type": "code",
      "source": [
        "# Menghitung total belanja beberapa item\n",
        "\n",
        "total = 0\n",
        "\n",
        "while True:\n",
        "  barang = input(\"Masukkan nama barang (ketik 'selesai' untuk berhenti): \")\n",
        "  if barang.lower() == \"selesai\":\n",
        "    break\n",
        "\n",
        "  harga = float(input(F\"Masukkan harga {barang}: \"))\n",
        "  jumlah = int(input(f\"Masukkan jumlah {barang}: \"))\n",
        "\n",
        "  subtotal = harga * jumlah\n",
        "  total += subtotal\n",
        "\n",
        "print(\"\\n===== Struk Belanja =====\")\n",
        "print(f\"Total Belanja : RP {total:,.0f}\")"
      ],
      "metadata": {
        "colab": {
          "base_uri": "https://localhost:8080/"
        },
        "id": "JKqK4AKf_TUA",
        "outputId": "7896579b-e281-4472-8066-f9dd0d270b65"
      },
      "execution_count": null,
      "outputs": [
        {
          "output_type": "stream",
          "name": "stdout",
          "text": [
            "Masukkan nama barang (ketik 'selesai' untuk berhenti): Laptop\n",
            "Masukkan harga Laptop: 12000000\n",
            "Masukkan jumlah Laptop: 1\n",
            "Masukkan nama barang (ketik 'selesai' untuk berhenti): selesai\n",
            "\n",
            "===== Struk Belanja =====\n",
            "Total Belanja : RP 12,000,000\n"
          ]
        }
      ]
    },
    {
      "cell_type": "code",
      "source": [],
      "metadata": {
        "id": "bkzjDQzDAURG"
      },
      "execution_count": null,
      "outputs": []
    }
  ]
}