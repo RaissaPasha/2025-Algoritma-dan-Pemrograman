{
  "nbformat": 4,
  "nbformat_minor": 0,
  "metadata": {
    "colab": {
      "provenance": [],
      "authorship_tag": "ABX9TyNuN4siWWAIvkgyRepucHDN",
      "include_colab_link": true
    },
    "kernelspec": {
      "name": "python3",
      "display_name": "Python 3"
    },
    "language_info": {
      "name": "python"
    }
  },
  "cells": [
    {
      "cell_type": "markdown",
      "metadata": {
        "id": "view-in-github",
        "colab_type": "text"
      },
      "source": [
        "<a href=\"https://colab.research.google.com/github/RaissaPasha/2025-Algoritma-dan-Pemrograman/blob/main/Jobsheet5.ipynb\" target=\"_parent\"><img src=\"https://colab.research.google.com/assets/colab-badge.svg\" alt=\"Open In Colab\"/></a>"
      ]
    },
    {
      "cell_type": "markdown",
      "source": [
        "**Praktikum 01 - Indexing and Slicing**"
      ],
      "metadata": {
        "id": "1kM5O3EiFx1B"
      }
    },
    {
      "cell_type": "code",
      "execution_count": null,
      "metadata": {
        "id": "c1dM_ACEA_Gs",
        "colab": {
          "base_uri": "https://localhost:8080/"
        },
        "outputId": "45ba38ea-f70b-4afc-d195-710815a0ebd9"
      },
      "outputs": [
        {
          "output_type": "stream",
          "name": "stdout",
          "text": [
            "P\n",
            "Politeknik \n",
            "Semarang\n"
          ]
        }
      ],
      "source": [
        "teks = \"Politeknik Negeri Semarang\"\n",
        "print(teks[0])        # 'P'\n",
        "print(teks[0:11])     # 'Politeknik'\n",
        "print(teks[-8:])      # 'Semarang'"
      ]
    },
    {
      "cell_type": "markdown",
      "source": [
        "**Praktikum 02 – Method Bawaan String**"
      ],
      "metadata": {
        "id": "SFwM5B0RGbvd"
      }
    },
    {
      "cell_type": "code",
      "source": [
        "teks = \" Politeknik Negeri Semarang \"\n",
        "print(teks.upper())\n",
        "print(teks.lower())\n",
        "print(teks.title())\n",
        "print(teks.strip())\n",
        "print(teks.split(\" \"))\n",
        "print(\"-\".join([\"Politeknik\",\"Negeri\",\"Semarang\"]))"
      ],
      "metadata": {
        "colab": {
          "base_uri": "https://localhost:8080/"
        },
        "id": "tPChsxDDGTOw",
        "outputId": "99eb23b0-061f-4db3-ad9c-2ef87daba8fa"
      },
      "execution_count": null,
      "outputs": [
        {
          "output_type": "stream",
          "name": "stdout",
          "text": [
            " POLITEKNIK NEGERI SEMARANG \n",
            " politeknik negeri semarang \n",
            " Politeknik Negeri Semarang \n",
            "Politeknik Negeri Semarang\n",
            "['', 'Politeknik', 'Negeri', 'Semarang', '']\n",
            "Politeknik-Negeri-Semarang\n"
          ]
        }
      ]
    },
    {
      "cell_type": "markdown",
      "source": [
        "**Praktikum 03 – Validasi Password**"
      ],
      "metadata": {
        "id": "L3jvHl3JHnqd"
      }
    },
    {
      "cell_type": "code",
      "source": [
        "password = input(\"Masukkan Password: \")\n",
        "\n",
        "if len(password) >= 8:\n",
        "  print(\"Password valid\")\n",
        "else:\n",
        "  print(\"Password terlalu pendek\")"
      ],
      "metadata": {
        "colab": {
          "base_uri": "https://localhost:8080/"
        },
        "id": "uK499W5jHqZ-",
        "outputId": "dda0326a-77b7-4f25-e881-3f782aa9ba2f"
      },
      "execution_count": 1,
      "outputs": [
        {
          "output_type": "stream",
          "name": "stdout",
          "text": [
            "Masukkan Password: abc\n",
            "Password terlalu pendek\n"
          ]
        }
      ]
    },
    {
      "cell_type": "markdown",
      "source": [
        "**Praktikum 04 – String Formatting dengan F-String**"
      ],
      "metadata": {
        "id": "eYImgctQH_IO"
      }
    },
    {
      "cell_type": "code",
      "source": [
        "nama = input(\"Masukkan Nama : \")\n",
        "umur = int(input(\"Masukkan Umur : \"))\n",
        "\n",
        "print(f\"Nama Saya {nama}, umur {umur} tahun.\")"
      ],
      "metadata": {
        "colab": {
          "base_uri": "https://localhost:8080/"
        },
        "id": "YzYxWALLHFKW",
        "outputId": "882a77cc-c295-4e3b-ac15-ac01c879cce8"
      },
      "execution_count": 2,
      "outputs": [
        {
          "output_type": "stream",
          "name": "stdout",
          "text": [
            "Masukkan Nama : Budi\n",
            "Masukkan Umur : 21\n",
            "Nama Saya Budi, umur 21 tahun.\n"
          ]
        }
      ]
    },
    {
      "cell_type": "markdown",
      "source": [
        "**Praktikum 05 – Operasi dalam F-String**"
      ],
      "metadata": {
        "id": "M8rBpTVSIgaF"
      }
    },
    {
      "cell_type": "code",
      "source": [
        "a = int(input(\"Masukkan Nilai a : \"))\n",
        "b = int(input(\"Masukkan Nilai b : \"))\n",
        "\n",
        "print(F\"Hasil Penjumlahan {a}+{b} = {a+b}\")\n",
        "print(F\"Hasil Pembagian {a}/{b} = {a/b:.2f}\")"
      ],
      "metadata": {
        "colab": {
          "base_uri": "https://localhost:8080/"
        },
        "id": "1dxkRFkWIjhN",
        "outputId": "607e8156-ad3a-45a9-8385-362bc3d7dae9"
      },
      "execution_count": null,
      "outputs": [
        {
          "output_type": "stream",
          "name": "stdout",
          "text": [
            "Masukkan Nilai a : 10\n",
            "Masukkan Nilai b : 3\n",
            "Hasil Penjumlahan 10+3 = 13\n",
            "Hasil Pembagian 10/3 = 3.33\n"
          ]
        }
      ]
    },
    {
      "cell_type": "markdown",
      "source": [
        "**Praktikum 06 – Casting String**"
      ],
      "metadata": {
        "id": "J6W-giOGJCzM"
      }
    },
    {
      "cell_type": "code",
      "source": [
        "angka = 123\n",
        "teks = \"456\"\n",
        "\n",
        "print(\"Nilai : \" + str(angka))\n",
        "print(int(teks) + 10)"
      ],
      "metadata": {
        "colab": {
          "base_uri": "https://localhost:8080/"
        },
        "id": "KBIXMe__ITYy",
        "outputId": "0c45dec1-a98c-4ac1-e7ab-acda0b63fadb"
      },
      "execution_count": null,
      "outputs": [
        {
          "output_type": "stream",
          "name": "stdout",
          "text": [
            "Nilai : 123\n",
            "466\n"
          ]
        }
      ]
    },
    {
      "cell_type": "markdown",
      "source": [
        "**Praktikum 07 – Studi Kasus Nyata: Analisis Kalimat**"
      ],
      "metadata": {
        "id": "DCZDNZ5YJd7D"
      }
    },
    {
      "cell_type": "code",
      "source": [
        "kalimat = \"Saya kuliah di Politeknik Negeri Semarang\"\n",
        "daftar_kata = kalimat.split(\" \")\n",
        "\n",
        "print(f\"Jumlah Kata : {len(daftar_kata)}\")\n",
        "for i, kata in enumerate(daftar_kata, start=1):\n",
        "  print(i, kata)"
      ],
      "metadata": {
        "colab": {
          "base_uri": "https://localhost:8080/"
        },
        "id": "oK_sFGblJR4m",
        "outputId": "320b6e24-996f-441d-b48b-11b7abeb7a92"
      },
      "execution_count": null,
      "outputs": [
        {
          "output_type": "stream",
          "name": "stdout",
          "text": [
            "Jumlah Kata : 6\n",
            "1 Saya\n",
            "2 kuliah\n",
            "3 di\n",
            "4 Politeknik\n",
            "5 Negeri\n",
            "6 Semarang\n"
          ]
        }
      ]
    },
    {
      "cell_type": "markdown",
      "source": [
        "**Penugasan**"
      ],
      "metadata": {
        "id": "SBOKl9Q2KM8K"
      }
    },
    {
      "cell_type": "markdown",
      "source": [
        "**Indexing dan Slicing**"
      ],
      "metadata": {
        "id": "8u9-X0BsKSgf"
      }
    },
    {
      "cell_type": "code",
      "source": [
        "teks = \"Politeknik Negeri Semarang\"\n",
        "print(teks[0])          # Huruf Pertama\n",
        "print(teks[-1])         # Huruf Terakhir\n",
        "print(teks[11:18])      # Kata \"Negeri\" Menggunakan Slicing"
      ],
      "metadata": {
        "colab": {
          "base_uri": "https://localhost:8080/"
        },
        "id": "N2eXIT3pKHF1",
        "outputId": "510cab1e-89d9-4aa7-9fbb-ccb642341169"
      },
      "execution_count": 4,
      "outputs": [
        {
          "output_type": "stream",
          "name": "stdout",
          "text": [
            "P\n",
            "g\n",
            "Negeri \n"
          ]
        }
      ]
    },
    {
      "cell_type": "markdown",
      "source": [
        "**Manipulasi String**"
      ],
      "metadata": {
        "id": "3YWjbc8kKqQt"
      }
    },
    {
      "cell_type": "code",
      "source": [
        "kalimat = input(\"Masukkan Sebuah Kalimat : \")\n",
        "print(kalimat.upper())        # Semua huruf kapital\n",
        "print(kalimat.lower())        # Semua huruf kecil\n",
        "print(kalimat.title())        # Huruf Kapital pada Awal Kata"
      ],
      "metadata": {
        "colab": {
          "base_uri": "https://localhost:8080/"
        },
        "id": "T02PestlLK_z",
        "outputId": "852da5d0-d380-41d1-eb0f-47a0baaaa634"
      },
      "execution_count": null,
      "outputs": [
        {
          "output_type": "stream",
          "name": "stdout",
          "text": [
            "Masukkan Sebuah Kalimat : teknologi rekayasa komputer\n",
            "TEKNOLOGI REKAYASA KOMPUTER\n",
            "teknologi rekayasa komputer\n",
            "Teknologi Rekayasa Komputer\n"
          ]
        }
      ]
    },
    {
      "cell_type": "markdown",
      "source": [
        "**Validasi Username**"
      ],
      "metadata": {
        "id": "hWYSWcxGLgQg"
      }
    },
    {
      "cell_type": "code",
      "source": [
        "username = input(\"Masukkan Username : \")\n",
        "if \" \" in username:\n",
        "  print(\"Username tidak boleh mengandung spasi!\")\n",
        "else:\n",
        "  print(\"Username Valid\")"
      ],
      "metadata": {
        "colab": {
          "base_uri": "https://localhost:8080/"
        },
        "id": "6KqLbbRvLca2",
        "outputId": "5f2bc019-9bf2-402c-e3cb-fe49070e6dd2"
      },
      "execution_count": 6,
      "outputs": [
        {
          "output_type": "stream",
          "name": "stdout",
          "text": [
            "Masukkan Username : Raissa Pasha\n",
            "Username tidak boleh mengandung spasi!\n"
          ]
        }
      ]
    },
    {
      "cell_type": "markdown",
      "source": [
        "**String Formatting dengan F-String**"
      ],
      "metadata": {
        "id": "VxRWXRpRL5bB"
      }
    },
    {
      "cell_type": "code",
      "source": [
        "nama = input(\"Masukkan Nama : \")\n",
        "umur = input(\"Masukkan Umur : \")\n",
        "jurusan = input(\"Masukkan Jurusan : \")\n",
        "print(f\"Nama Saya: {nama}\\nUmur Saya: {umur}\\nJurusan: {jurusan}\")"
      ],
      "metadata": {
        "colab": {
          "base_uri": "https://localhost:8080/"
        },
        "id": "cRlnXD0gLyuU",
        "outputId": "9628ef79-c2c3-4e8b-a9cf-82c4e274f845"
      },
      "execution_count": 7,
      "outputs": [
        {
          "output_type": "stream",
          "name": "stdout",
          "text": [
            "Masukkan Nama : Budi\n",
            "Masukkan Umur : 20\n",
            "Masukkan Jurusan : Teknologi Rekayasa Komputer\n",
            "Nama Saya: Budi\n",
            "Umur Saya: 20\n",
            "Jurusan: Teknologi Rekayasa Komputer\n"
          ]
        }
      ]
    },
    {
      "cell_type": "markdown",
      "source": [
        "**Operasi dalam F-String**"
      ],
      "metadata": {
        "id": "Noheaq4dMq8g"
      }
    },
    {
      "cell_type": "code",
      "source": [
        "a = int(input(\"Masukkan angka pertama : \"))\n",
        "b = int(input(\"Masukkan angka kedua : \"))\n",
        "print(f\"Penjumlahan   : {a + b}\")\n",
        "print(f\"Perkalian   : {a * b}\")\n",
        "print(f\"Pembagian   : {a / b:.3f}\") # Hasil 3 angka di belakang koma"
      ],
      "metadata": {
        "colab": {
          "base_uri": "https://localhost:8080/"
        },
        "id": "wRoKfm78MULN",
        "outputId": "3c42ced4-82de-445e-b78b-32aa149216bf"
      },
      "execution_count": null,
      "outputs": [
        {
          "output_type": "stream",
          "name": "stdout",
          "text": [
            "Masukkan angka pertama : 20\n",
            "Masukkan angka kedua : 6\n",
            "Penjumlahan   : 26\n",
            "Perkalian   : 120\n",
            "Pembagian   : 3.333\n"
          ]
        }
      ]
    },
    {
      "cell_type": "markdown",
      "source": [
        "**Casting Data**"
      ],
      "metadata": {
        "id": "CW6E7jXANNEW"
      }
    },
    {
      "cell_type": "code",
      "source": [
        "# Program Casting Data\n",
        "\n",
        "angka_str = input(\"Masukkan sebuah angka: \")\n",
        "\n",
        "# Konversi ke integer\n",
        "angka_int = int(angka_str)\n",
        "print(f\"Kuadrat dari {angka_int} adalah {angka_int ** 2}\")\n",
        "\n",
        "# Konversi ke float\n",
        "angka_float = float(angka_str)\n",
        "print(f\"Nilai float dengan 2 angka di belakang koma: {angka_float:.2f}\")"
      ],
      "metadata": {
        "colab": {
          "base_uri": "https://localhost:8080/"
        },
        "id": "N3bu2sCtcI9r",
        "outputId": "8a82e40f-5df5-4aa3-fa68-fff518e116ef"
      },
      "execution_count": 8,
      "outputs": [
        {
          "output_type": "stream",
          "name": "stdout",
          "text": [
            "Masukkan sebuah angka: 11\n",
            "Kuadrat dari 11 adalah 121\n",
            "Nilai float dengan 2 angka di belakang koma: 11.00\n"
          ]
        }
      ]
    },
    {
      "cell_type": "markdown",
      "source": [
        "**Studi Kasus – Analisis Teks**"
      ],
      "metadata": {
        "id": "Tc6huF_INnYR"
      }
    },
    {
      "cell_type": "code",
      "source": [
        "kalimat = input(\"Masukkan kalimat : \")\n",
        "# Hitung jumlah kata\n",
        "kata = kalimat.split()\n",
        "print(\"Jumlah kata : \", len(kata))\n",
        "# Hitung kata terpanjang\n",
        "kata_terpanjang = max(kata, key=len)\n",
        "print(\"Kata terpanjang : \", kata_terpanjang)\n",
        "# Tampilkan daftar kata urutan abjad\n",
        "print(\"Daftar kata urutan abjad : \", sorted(kata))"
      ],
      "metadata": {
        "colab": {
          "base_uri": "https://localhost:8080/"
        },
        "id": "i-dzrIsNNlh0",
        "outputId": "9d742e26-6823-4718-857f-146b872983ab"
      },
      "execution_count": null,
      "outputs": [
        {
          "output_type": "stream",
          "name": "stdout",
          "text": [
            "Masukkan kalimat : aku anak Politeknik Negeri Semarang\n",
            "Jumlah kata :  5\n",
            "Kata terpanjang :  Politeknik\n",
            "Daftar kata urutan abjad :  ['Negeri', 'Politeknik', 'Semarang', 'aku', 'anak']\n"
          ]
        }
      ]
    },
    {
      "cell_type": "code",
      "source": [],
      "metadata": {
        "id": "Ks8riWyDc3eF"
      },
      "execution_count": null,
      "outputs": []
    }
  ]
}