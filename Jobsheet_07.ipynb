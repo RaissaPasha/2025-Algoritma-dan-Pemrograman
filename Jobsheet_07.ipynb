{
  "nbformat": 4,
  "nbformat_minor": 0,
  "metadata": {
    "colab": {
      "provenance": [],
      "authorship_tag": "ABX9TyOSWXN4vmKE8HFEXx06N7Py",
      "include_colab_link": true
    },
    "kernelspec": {
      "name": "python3",
      "display_name": "Python 3"
    },
    "language_info": {
      "name": "python"
    }
  },
  "cells": [
    {
      "cell_type": "markdown",
      "metadata": {
        "id": "view-in-github",
        "colab_type": "text"
      },
      "source": [
        "<a href=\"https://colab.research.google.com/github/RaissaPasha/2025-Algoritma-dan-Pemrograman/blob/main/Jobsheet_07.ipynb\" target=\"_parent\"><img src=\"https://colab.research.google.com/assets/colab-badge.svg\" alt=\"Open In Colab\"/></a>"
      ]
    },
    {
      "cell_type": "markdown",
      "source": [
        "**Praktikum 01 – Tuple: Data Tetap yang Tidak Bisa Diubah**"
      ],
      "metadata": {
        "id": "AAGTWFU7BtIW"
      }
    },
    {
      "cell_type": "code",
      "source": [
        "koordinat = (7.05, 110.44)\n",
        "print(\"Lintang : \", koordinat[0])\n",
        "print(\"Bujur : \", koordinat[1])"
      ],
      "metadata": {
        "colab": {
          "base_uri": "https://localhost:8080/"
        },
        "id": "HvXdIPgkBs3O",
        "outputId": "4cae1635-0e75-44b4-ef9f-94fe00a6be62"
      },
      "execution_count": null,
      "outputs": [
        {
          "output_type": "stream",
          "name": "stdout",
          "text": [
            "Lintang :  7.05\n",
            "Bujur :  110.44\n"
          ]
        }
      ]
    },
    {
      "cell_type": "markdown",
      "source": [
        "**Praktikum 02 – Dictionary Dasar: Menyimpan Data Mahasiswa**"
      ],
      "metadata": {
        "id": "0OT_xtoWCL81"
      }
    },
    {
      "cell_type": "code",
      "source": [
        "mahasiswa = {\n",
        "    \"NIM\": \"20251001\",\n",
        "    \"Nama\": \"Andi\",\n",
        "    \"Prodi\": \"TRK\"\n",
        "}\n",
        "\n",
        "print(\"NIM: \", mahasiswa[\"NIM\"])\n",
        "print(\"Nama: \", mahasiswa[\"Nama\"])\n",
        "print(\"Prodi: \", mahasiswa[\"Prodi\"])"
      ],
      "metadata": {
        "colab": {
          "base_uri": "https://localhost:8080/"
        },
        "id": "VCpqpnNnCMd0",
        "outputId": "6fcee036-8415-472d-b8d4-05135f56a41d"
      },
      "execution_count": null,
      "outputs": [
        {
          "output_type": "stream",
          "name": "stdout",
          "text": [
            "NIM:  20251001\n",
            "Nama:  Andi\n",
            "Prodi:  TRK\n"
          ]
        }
      ]
    },
    {
      "cell_type": "markdown",
      "source": [
        "**Praktikum 03 – Operasi pada Dictionary**"
      ],
      "metadata": {
        "id": "2LexlXqbCIAK"
      }
    },
    {
      "cell_type": "code",
      "source": [
        "hasiswa = {\n",
        "    \"NIM\": \"20251001\",\n",
        "    \"Nama\": \"Andi\",\n",
        "    \"Prodi\": \"TRK\"\n",
        "}\n",
        "\n",
        "mahasiswa[\"Umur\"] = 20  # menambah data\n",
        "mahasiswa[\"Prodi\"] = \"Teknik Komputer\"  # memperbarui data\n",
        "del mahasiswa[\"Umur\"] # menghapus data\n",
        "\n",
        "print(mahasiswa)"
      ],
      "metadata": {
        "colab": {
          "base_uri": "https://localhost:8080/"
        },
        "id": "M-JcHDReC0qa",
        "outputId": "aa637239-f689-4715-9c6f-2a60d9b615bb"
      },
      "execution_count": null,
      "outputs": [
        {
          "output_type": "stream",
          "name": "stdout",
          "text": [
            "{'NIM': '20251001', 'Nama': 'Andi', 'Prodi': 'Teknik Komputer'}\n"
          ]
        }
      ]
    },
    {
      "cell_type": "markdown",
      "source": [
        "**Praktikum 04 – Set dan Operasi Himpunan**"
      ],
      "metadata": {
        "id": "L6lhhcJADcSi"
      }
    },
    {
      "cell_type": "code",
      "execution_count": null,
      "metadata": {
        "id": "T0zOB2dxBLMw",
        "colab": {
          "base_uri": "https://localhost:8080/"
        },
        "outputId": "d5d45abf-ea6f-4025-d6cb-d0375cc0cbcd"
      },
      "outputs": [
        {
          "output_type": "stream",
          "name": "stdout",
          "text": [
            "Union :  {1, 2, 3, 4, 5, 6}\n",
            "Intersection :  {3, 4}\n",
            "Difference :  {1, 2}\n"
          ]
        }
      ],
      "source": [
        "A = {1, 2, 3, 4}\n",
        "B = {3, 4, 5, 6}\n",
        "\n",
        "print(\"Union : \", A | B)\n",
        "print(\"Intersection : \", A & B)\n",
        "print(\"Difference : \", A - B)"
      ]
    },
    {
      "cell_type": "markdown",
      "source": [
        "**Praktikum 05 – Studi Kasus: Data Mahasiswa dan Mata Kuliah**"
      ],
      "metadata": {
        "id": "J5KYuOD3EBZY"
      }
    },
    {
      "cell_type": "code",
      "source": [
        "mhs1 = {\"Algoritma\", \"Matematika\", \"Bahasa Inggris\"}\n",
        "mhs2 = {\"Algoritma\", \"Basis Data\", \"Matematika\"}\n",
        "\n",
        "print(\"Mata Kuliah Mahasiswa 1 : \", mhs1)\n",
        "print(\"Mata Kuliah Mahasiswa 2 : \", mhs2)\n",
        "print(\"Mata Kuliah yang Sama : \", mhs1 & mhs2)"
      ],
      "metadata": {
        "colab": {
          "base_uri": "https://localhost:8080/"
        },
        "id": "0aHwpLQeD3TX",
        "outputId": "90060672-853a-4257-a452-edc65e46c325"
      },
      "execution_count": null,
      "outputs": [
        {
          "output_type": "stream",
          "name": "stdout",
          "text": [
            "Mata Kuliah Mahasiswa 1 :  {'Bahasa Inggris', 'Matematika', 'Algoritma'}\n",
            "Mata Kuliah Mahasiswa 2 :  {'Basis Data', 'Matematika', 'Algoritma'}\n",
            "Mata Kuliah yang Sama :  {'Matematika', 'Algoritma'}\n"
          ]
        }
      ]
    },
    {
      "cell_type": "markdown",
      "source": [
        "**Praktikum 06 – Studi Kasus Dictionary: Daftar Nilai Mahasiswa**"
      ],
      "metadata": {
        "id": "X8wtROxqEwwt"
      }
    },
    {
      "cell_type": "code",
      "source": [
        "nilai_mahasiswa = {\n",
        "    \"Andi\" : 80,\n",
        "    \"Budi\" : 75,\n",
        "    \"Cici\" : 90\n",
        "}\n",
        "\n",
        "for nama, nilai in nilai_mahasiswa.items():\n",
        "  print(f\"{nama}: {nilai}\")\n",
        "\n",
        "rata = sum(nilai_mahasiswa.values()) / len(nilai_mahasiswa)\n",
        "print(f\"Rata-rata nilai : {rata:.2f}\")"
      ],
      "metadata": {
        "colab": {
          "base_uri": "https://localhost:8080/"
        },
        "id": "GHiskC4LEuqk",
        "outputId": "1fd34aef-9d74-4c78-82a8-5f7e0f36a1d7"
      },
      "execution_count": null,
      "outputs": [
        {
          "output_type": "stream",
          "name": "stdout",
          "text": [
            "Andi: 80\n",
            "Budi: 75\n",
            "Cici: 90\n",
            "Rata-rata nilai : 81.67\n"
          ]
        }
      ]
    },
    {
      "cell_type": "markdown",
      "source": [
        "**Penugasan**"
      ],
      "metadata": {
        "id": "HAGzTtcbFWkt"
      }
    },
    {
      "cell_type": "markdown",
      "source": [
        "**Tuple Sederhana**"
      ],
      "metadata": {
        "id": "TylhpfvFFYpJ"
      }
    },
    {
      "cell_type": "code",
      "source": [
        "mahasiswa = (\"Andi\", 20, \"Teknik Komputer\")\n",
        "\n",
        "print(\"Nama : \", mahasiswa[0])\n",
        "print(\"Umur : \", mahasiswa[1])\n",
        "print(\"Prodi : \", mahasiswa[2])"
      ],
      "metadata": {
        "colab": {
          "base_uri": "https://localhost:8080/"
        },
        "id": "pzVCz3EhGRKk",
        "outputId": "056b6ba6-9be7-406c-a81e-815960950ce7"
      },
      "execution_count": null,
      "outputs": [
        {
          "output_type": "stream",
          "name": "stdout",
          "text": [
            "Nama :  Andi\n",
            "Umur :  20\n",
            "Prodi :  Teknik Komputer\n"
          ]
        }
      ]
    },
    {
      "cell_type": "markdown",
      "source": [
        "**Tuple Tidak Bisa Diubah**"
      ],
      "metadata": {
        "id": "hF4OGQEoGjYv"
      }
    },
    {
      "cell_type": "code",
      "source": [
        "data = (1, 2, 3)\n",
        "\n",
        "try:\n",
        "  data[0] = 10\n",
        "except TypeError as e:\n",
        "  print(\"Error\", e)\n",
        "  print(\"Penjelasan: Tuple bersifat immutable, sehingga elemennya tak bisa diubah\")"
      ],
      "metadata": {
        "colab": {
          "base_uri": "https://localhost:8080/"
        },
        "id": "Kbznae9BGjBi",
        "outputId": "7a0cf3a6-bff9-4965-d554-8dd2a93d4bdb"
      },
      "execution_count": null,
      "outputs": [
        {
          "output_type": "stream",
          "name": "stdout",
          "text": [
            "Error 'tuple' object does not support item assignment\n",
            "Penjelasan: Tuple bersifat immutable, sehingga elemennya tak bisa diubah\n"
          ]
        }
      ]
    },
    {
      "cell_type": "markdown",
      "source": [
        "**Dictionary Dasar**"
      ],
      "metadata": {
        "id": "5G26dbNlHGWh"
      }
    },
    {
      "cell_type": "code",
      "source": [
        "buku = {\n",
        "    \"Judul\" : \"Algoritma\",\n",
        "    \"Penulis\" : \"Munir\",\n",
        "    \"Tahun\" : 2021\n",
        "}\n",
        "\n",
        "print(\"Judul Buku: \", buku[\"Judul\"])\n",
        "print(\"Penulis: \", buku[\"Penulis\"])\n",
        "print(\"Tahun Terbit: \", buku[\"Tahun\"])"
      ],
      "metadata": {
        "colab": {
          "base_uri": "https://localhost:8080/"
        },
        "id": "7a6bt9ktFR-w",
        "outputId": "1ad61842-47a2-48f5-c8de-e890befabf58"
      },
      "execution_count": null,
      "outputs": [
        {
          "output_type": "stream",
          "name": "stdout",
          "text": [
            "Judul Buku:  Algoritma\n",
            "Penulis:  Munir\n",
            "Tahun Terbit:  2021\n"
          ]
        }
      ]
    },
    {
      "cell_type": "markdown",
      "source": [
        "**Operasi Dictionary**"
      ],
      "metadata": {
        "id": "LH2XsmFBICrE"
      }
    },
    {
      "cell_type": "code",
      "source": [
        "dosen = {\n",
        "    \"NIP\": \"1234\",\n",
        "    \"Nama\": \"Budi\",\n",
        "    \"Prodi\": \"TRK\"\n",
        "}\n",
        "\n",
        "dosen[\"Umur\"] = 40\n",
        "dosen[\"Prodi\"] = \"Teknik Komputer\"\n",
        "del dosen[\"Umur\"]\n",
        "\n",
        "print(dosen)"
      ],
      "metadata": {
        "colab": {
          "base_uri": "https://localhost:8080/"
        },
        "id": "JL5B9REyIFT9",
        "outputId": "c7fd3d43-67eb-49c8-8e95-2e0a22c78b9e"
      },
      "execution_count": null,
      "outputs": [
        {
          "output_type": "stream",
          "name": "stdout",
          "text": [
            "{'NIP': '1234', 'Nama': 'Budi', 'Prodi': 'Teknik Komputer'}\n"
          ]
        }
      ]
    },
    {
      "cell_type": "markdown",
      "source": [
        "**Set dan Himpunan**"
      ],
      "metadata": {
        "id": "FEKlrExkH_E4"
      }
    },
    {
      "cell_type": "code",
      "source": [
        "A = {\"Matematika\", \"Algoritma\", \"Bahasa Inggris\"}\n",
        "B = {\"Algoritma\", \"Basis Data\", \"Matematika\"}\n",
        "\n",
        "print(\"Union :\", A | B)\n",
        "print(\"Intersection :\", A & B)\n",
        "print(\"DIfference :\", A - B, B - A)"
      ],
      "metadata": {
        "colab": {
          "base_uri": "https://localhost:8080/"
        },
        "id": "E3DkHiu_H3Ta",
        "outputId": "46dda892-9fcf-43d9-91d2-c92871d5c29f"
      },
      "execution_count": null,
      "outputs": [
        {
          "output_type": "stream",
          "name": "stdout",
          "text": [
            "Union : {'Basis Data', 'Bahasa Inggris', 'Matematika', 'Algoritma'}\n",
            "Intersection : {'Matematika', 'Algoritma'}\n",
            "DIfference : {'Bahasa Inggris'} {'Basis Data'}\n"
          ]
        }
      ]
    },
    {
      "cell_type": "markdown",
      "source": [
        "**Studi Kasus Dictionary**"
      ],
      "metadata": {
        "id": "c-YicNM0MyV4"
      }
    },
    {
      "cell_type": "code",
      "source": [
        "# Dictionary nilai mahasiswa\n",
        "nilai_mahasiswa = {\n",
        "    \"Andi\": 85,\n",
        "    \"Budi\": 90,\n",
        "    \"Cici\": 78\n",
        "}\n",
        "\n",
        "# Menampilkan nama dan nilai\n",
        "for nama, nilai in nilai_mahasiswa.items():\n",
        "    print(nama, \":\", nilai)\n",
        "\n",
        "# Menghitung rata-rata nilai\n",
        "rata = sum(nilai_mahasiswa.values()) / len(nilai_mahasiswa)\n",
        "print(f\"Rata-rata nilai : {rata:.2f}\")\n"
      ],
      "metadata": {
        "colab": {
          "base_uri": "https://localhost:8080/"
        },
        "id": "xLO66bF-Jijh",
        "outputId": "0d241d53-69e6-4dba-b12b-acb250b5d319"
      },
      "execution_count": null,
      "outputs": [
        {
          "output_type": "stream",
          "name": "stdout",
          "text": [
            "Andi : 85\n",
            "Budi : 90\n",
            "Cici : 78\n",
            "Rata-rata nilai : 84.33\n"
          ]
        }
      ]
    },
    {
      "cell_type": "markdown",
      "source": [
        "**Studi Kasus Set – Klub Mahasiswa**"
      ],
      "metadata": {
        "id": "eEqoCUYwNhYe"
      }
    },
    {
      "cell_type": "code",
      "source": [
        "# Dua klub mahasiswa\n",
        "klub_A = {\"Andi\", \"Budi\", \"Cici\"}\n",
        "klub_B = {\"Cici\", \"Deni\", \"Eka\"}\n",
        "\n",
        "# Menampilkan hasil operasi himpunan\n",
        "print(\"Seluruh anggota :\", klub_A | klub_B)\n",
        "print(\"Anggota di kedua klub :\", klub_A & klub_B)\n",
        "print(\"Anggota hanya di Klub A :\", klub_A - klub_B)\n"
      ],
      "metadata": {
        "colab": {
          "base_uri": "https://localhost:8080/"
        },
        "id": "FhbDCA17M95x",
        "outputId": "795f6553-bfbc-4fb4-e111-f050db29a5a1"
      },
      "execution_count": null,
      "outputs": [
        {
          "output_type": "stream",
          "name": "stdout",
          "text": [
            "Seluruh anggota : {'Eka', 'Cici', 'Deni', 'Budi', 'Andi'}\n",
            "Anggota di kedua klub : {'Cici'}\n",
            "Anggota hanya di Klub A : {'Budi', 'Andi'}\n"
          ]
        }
      ]
    }
  ]
}